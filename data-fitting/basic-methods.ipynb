{
 "cells": [
  {
   "cell_type": "markdown",
   "metadata": {},
   "source": [
    "# data fitting"
   ]
  },
  {
   "cell_type": "code",
   "execution_count": null,
   "metadata": {},
   "outputs": [],
   "source": [
    "import csv\n",
    "import math\n",
    "import matplotlib.pyplot as plt\n",
    "import numpy as np\n",
    "import re\n",
    "import time\n",
    "\n",
    "from copy import deepcopy\n",
    "from scipy.interpolate import interp1d\n",
    "from scipy.optimize import curve_fit"
   ]
  },
  {
   "cell_type": "code",
   "execution_count": null,
   "metadata": {},
   "outputs": [],
   "source": [
    "def is_digit(x):\n",
    "    if re.match(\"^-?\\d+?\\.\\d*?$\", x) is None:\n",
    "        return False\n",
    "    return True"
   ]
  },
  {
   "cell_type": "markdown",
   "metadata": {},
   "source": [
    "## airfoil lift coefficient\n",
    "Performace data for airfoil E387(E) taken from: M.S. Selig and B.D. McGranahan, \"Wind Tunnel Aerodynamic Tests of Six Airfoils for Use on Small Wind Turbines\", NREL/SR-500-34515, 2004."
   ]
  },
  {
   "cell_type": "code",
   "execution_count": null,
   "metadata": {},
   "outputs": [],
   "source": [
    "raw = []\n",
    "with open('e387e.csv', 'r') as csv_file:\n",
    "    csv_reader = csv.reader(csv_file)\n",
    "    for row in csv_reader:\n",
    "        if is_digit(row[0]):\n",
    "            raw.append([float(x) for x in row])\n",
    "\n",
    "data = np.array(raw)\n",
    "α_data = data[3:-3,0]\n",
    "Cl_data = data[3:-3,1]\n",
    "plt.figure(figsize=(10,10))\n",
    "plt.style.use('dark_background')\n",
    "plt.rcParams.update({'font.size': 14})\n",
    "plt.plot(α_data, Cl_data, 'o')\n",
    "plt.xlabel('α')\n",
    "plt.ylabel(r'$C_l$')\n",
    "plt.show()"
   ]
  },
  {
   "cell_type": "markdown",
   "metadata": {},
   "source": [
    "## cubic splines"
   ]
  },
  {
   "cell_type": "code",
   "execution_count": null,
   "metadata": {},
   "outputs": [],
   "source": [
    "sp = interp1d(α_data, Cl_data, kind='cubic')\n",
    "x_sp = np.linspace(α_data[0], α_data[-1], num=101, endpoint=True)\n",
    "plt.figure(figsize=(10,10))\n",
    "plt.plot(x_sp, sp(x_sp), 'g-', label='cubic splines')\n",
    "plt.plot(α_data, Cl_data, 'o', label='experimental data')\n",
    "plt.xlabel('α')\n",
    "plt.ylabel(r'$C_l$')\n",
    "plt.legend()\n",
    "plt.show()"
   ]
  },
  {
   "cell_type": "markdown",
   "metadata": {},
   "source": [
    "## linear fit"
   ]
  },
  {
   "cell_type": "code",
   "execution_count": null,
   "metadata": {},
   "outputs": [],
   "source": [
    "def fun(x, a, b):\n",
    "    return a*x + b"
   ]
  },
  {
   "cell_type": "code",
   "execution_count": null,
   "metadata": {},
   "outputs": [],
   "source": [
    "popt, pcov = curve_fit(fun, α_data, Cl_data)"
   ]
  },
  {
   "cell_type": "code",
   "execution_count": null,
   "metadata": {},
   "outputs": [],
   "source": [
    "plt.figure(figsize=(10,10))\n",
    "plt.plot(α_data, fun(α_data, *popt), 'r-', label='fit: Cl(x) = %5.3fx + %5.3f' % tuple(popt))\n",
    "plt.plot(α_data, Cl_data, 'o', label='experimental data')\n",
    "plt.xlabel('α')\n",
    "plt.ylabel(r'$C_l$')\n",
    "plt.legend()\n",
    "plt.show()"
   ]
  },
  {
   "cell_type": "markdown",
   "metadata": {},
   "source": [
    "## comparison between interpolation and fitting"
   ]
  },
  {
   "cell_type": "code",
   "execution_count": null,
   "metadata": {},
   "outputs": [],
   "source": [
    "plt.figure(figsize=(10,10))\n",
    "plt.plot(α_data, fun(α_data, *popt), 'r-', label='fit: Cl(x) = %5.3fx + %5.3f' % tuple(popt))\n",
    "plt.plot(x_sp, sp(x_sp), 'g-', label='cubic splines')\n",
    "plt.plot(α_data, Cl_data, 'o', label='experimental data')\n",
    "plt.xlabel('α')\n",
    "plt.ylabel(r'$C_l$')\n",
    "plt.legend()\n",
    "plt.show()"
   ]
  },
  {
   "cell_type": "markdown",
   "metadata": {},
   "source": [
    "## quadratic fit"
   ]
  },
  {
   "cell_type": "code",
   "execution_count": null,
   "metadata": {},
   "outputs": [],
   "source": [
    "def fun_q(x, a, b, c):\n",
    "    return a*x**2 + b*x + c"
   ]
  },
  {
   "cell_type": "code",
   "execution_count": null,
   "metadata": {},
   "outputs": [],
   "source": [
    "xdata = np.linspace(0, 4, 50)\n",
    "pexa = (2.5, 1.3, 0.5)\n",
    "y = fun_q(xdata, *pexa)\n",
    "np.random.seed(1729)\n",
    "noise_amplitude = 2.0\n",
    "y_noise = noise_amplitude * np.random.normal(size=xdata.size)\n",
    "ydata = y + y_noise\n",
    "plt.figure(figsize=(10,10))\n",
    "plt.plot(xdata, ydata, 'o', label='data')\n",
    "popt, pcov = curve_fit(fun_q, xdata, ydata)\n",
    "plt.plot(xdata, fun_q(xdata, *pexa), 'g-', label=r'exact: $y$ = %5.3f$x^2$ + %5.3f$x$ + %5.3f' % pexa)\n",
    "plt.plot(xdata, fun_q(xdata, *popt), 'r-', label=r'fit: $\\bar{y}$ = %5.3f$x^2$ + %5.3f$x$ + %5.3f' % tuple(popt))\n",
    "plt.legend()\n",
    "plt.show()"
   ]
  },
  {
   "cell_type": "markdown",
   "metadata": {},
   "source": [
    "## Colebrook\n",
    "Data taken from: C.F. Colebrook and C.M. White, \"Experiments with Fluid Friction in Roughened Pipes\", Proceedings of the Royal Society A, 161, 1937 (https://doi.org/10.1098/rspa.1937.0150)."
   ]
  },
  {
   "cell_type": "code",
   "execution_count": null,
   "metadata": {},
   "outputs": [],
   "source": [
    "raw = []\n",
    "with open('pipe.csv', 'r') as csv_file:\n",
    "    csv_reader = csv.reader(csv_file)\n",
    "    for row in csv_reader:\n",
    "        if is_digit(row[0]):\n",
    "            raw.append([float(x) for x in row])\n",
    "data = np.array(raw)\n",
    "x_data = data[:,0]\n",
    "y_data = data[:,1]\n",
    "plt.figure(figsize=(10,10))\n",
    "plt.style.use('dark_background')\n",
    "plt.plot(x_data, y_data, 'o')\n",
    "plt.xlabel('Rey')\n",
    "plt.ylabel(r'$\\frac{8\\tau}{\\rho U^2}$')\n",
    "plt.show()"
   ]
  },
  {
   "cell_type": "markdown",
   "metadata": {},
   "source": [
    "### power law"
   ]
  },
  {
   "cell_type": "code",
   "execution_count": null,
   "metadata": {},
   "outputs": [],
   "source": [
    "def fun_pl(x, a, b):\n",
    "        return a*x**b\n",
    "def fun_pl_vec(x, a, b):\n",
    "        return [fun_pl(i, a, b) for i in x]"
   ]
  },
  {
   "cell_type": "code",
   "execution_count": null,
   "metadata": {},
   "outputs": [],
   "source": [
    "x_plot = np.linspace(x_data[0], x_data[-1], 101)\n",
    "popt, pcov = curve_fit(fun_pl_vec, x_data, y_data)\n",
    "\n",
    "fig, (ax0, ax1) = plt.subplots(1, 2, figsize=(20,10))\n",
    "\n",
    "ax1.plot(x_data, y_data, 'o', label='experiments')\n",
    "ax1.plot(x_plot, fun_pl_vec(x_plot, *popt), 'r-',\n",
    "           label=r'power law: $\\bar{{y}} = {{{0:5.3f}}}x^{{{1:5.3f}}}$'.format(popt[0], popt[1]))\n",
    "ax1.set_xlabel('Rey')\n",
    "ax1.set_ylabel(r'$\\frac{8\\tau}{\\rho U^2}$')\n",
    "ax1.legend()\n",
    "\n",
    "ax0.loglog(x_data, y_data, 'o', label='experiments')\n",
    "ax0.loglog(x_plot, fun_pl_vec(x_plot, *popt), 'r-',\n",
    "           label=r'power law: $\\bar{{y}} = {{{0:5.3f}}}x^{{{1:5.3f}}}$'.format(popt[0], popt[1]))\n",
    "ax0.set_xlabel('Rey')\n",
    "ax0.set_ylabel(r'$\\frac{8\\tau}{\\rho U^2}$')\n",
    "ax0.legend()\n",
    "plt.show()"
   ]
  },
  {
   "cell_type": "markdown",
   "metadata": {},
   "source": [
    "### exponential model"
   ]
  },
  {
   "cell_type": "code",
   "execution_count": null,
   "metadata": {},
   "outputs": [],
   "source": [
    "def lin_fun_exp(x, a, b):\n",
    "    return a + b*x\n",
    "def lin_fun_exp_vec(x, a, b):\n",
    "    return [lin_fun_exp(i, a, b) for i in x]\n",
    "def fun_exp(x, a, b):\n",
    "    return a*math.exp(b*x)"
   ]
  },
  {
   "cell_type": "code",
   "execution_count": null,
   "metadata": {},
   "outputs": [],
   "source": [
    "x_plot = np.linspace(x_data[0], x_data[-1], 101)\n",
    "popt, pcov = curve_fit(lin_fun_exp_vec, x_data, np.array([math.log(i) for i in y_data]), p0=[1e-3,-3])\n",
    "\n",
    "fig, (ax0, ax1) = plt.subplots(1, 2, figsize=(20,10))\n",
    "\n",
    "ax0.semilogy(x_data, y_data, 'o', label='experiments')\n",
    "ax0.semilogy(x_plot, [fun_exp(i, math.exp(popt[0]), popt[1]) for i in x_plot], 'r-',\n",
    "           label=r'exponential law: $\\bar{{y}} = {{{0:5.3f}}}\\times{{{1:0.8e}}}^x$'.format(math.exp(popt[0]), math.exp(popt[1])))\n",
    "ax0.set_xlabel('Rey')\n",
    "ax0.set_ylabel(r'$\\frac{8\\tau}{\\rho U^2}$')\n",
    "ax0.legend()\n",
    "\n",
    "ax1.plot(x_data, y_data, 'o', label='experiments')\n",
    "ax1.plot(x_plot, [fun_exp(i, math.exp(popt[0]), popt[1]) for i in x_plot], 'r-',\n",
    "           label=r'exponential law: $\\bar{{y}} = {{{0:5.3f}}}\\times{{{1:0.8e}}}^x$'.format(math.exp(popt[0]), math.exp(popt[1])))\n",
    "ax1.set_xlabel('Rey')\n",
    "ax1.set_ylabel(r'$\\frac{8\\tau}{\\rho U^2}$')\n",
    "ax1.legend()\n",
    "plt.show()"
   ]
  },
  {
   "cell_type": "markdown",
   "metadata": {},
   "source": [
    "### nonlinear fitting"
   ]
  },
  {
   "cell_type": "code",
   "execution_count": null,
   "metadata": {},
   "outputs": [],
   "source": [
    "def func(x, a, b, c, d):\n",
    "        return a/(math.log10(b + c*x**d))**2\n",
    "def func_vec(x, a, b, c, d):\n",
    "        return [func(i, a, b, c, d) for i in x]"
   ]
  },
  {
   "cell_type": "code",
   "execution_count": null,
   "metadata": {},
   "outputs": [],
   "source": [
    "x_plot = np.linspace(x_data[0], x_data[-1], 101)\n",
    "p0 = (0.001,1.0,1.,-1.)\n",
    "popt, pcov = curve_fit(func_vec, x_data, y_data, p0=p0)\n",
    "plt.figure(figsize=(10,10))\n",
    "plt.plot(x_data, y_data, 'o', label='data')\n",
    "plt.plot(x_plot, func_vec(x_plot, *popt), 'r-',\n",
    "           label=r'fit: $\\bar{{y}} = \\frac{{{0:5.3e}}}{{\\log^2_{{10}}({{{1:5.3e}}} + {{{2:5.3e}}}x^{{{3:5.3f}}})}}$'.format(popt[0], popt[1], popt[2], popt[3]))\n",
    "plt.xlabel('Rey')\n",
    "plt.ylabel(r'$\\frac{8\\tau}{\\rho U^2}$')\n",
    "plt.legend()\n",
    "plt.show()"
   ]
  },
  {
   "cell_type": "code",
   "execution_count": null,
   "metadata": {},
   "outputs": [],
   "source": []
  }
 ],
 "metadata": {
  "kernelspec": {
   "display_name": "Python 3",
   "language": "python",
   "name": "python3"
  },
  "language_info": {
   "codemirror_mode": {
    "name": "ipython",
    "version": 3
   },
   "file_extension": ".py",
   "mimetype": "text/x-python",
   "name": "python",
   "nbconvert_exporter": "python",
   "pygments_lexer": "ipython3",
   "version": "3.7.1"
  }
 },
 "nbformat": 4,
 "nbformat_minor": 1
}
