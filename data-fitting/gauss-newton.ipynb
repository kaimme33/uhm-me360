{
 "cells": [
  {
   "cell_type": "markdown",
   "metadata": {},
   "source": [
    "# Gauss-Newton method"
   ]
  },
  {
   "cell_type": "code",
   "execution_count": null,
   "metadata": {},
   "outputs": [],
   "source": [
    "%matplotlib inline"
   ]
  },
  {
   "cell_type": "code",
   "execution_count": null,
   "metadata": {},
   "outputs": [],
   "source": [
    "import copy\n",
    "import csv\n",
    "import math\n",
    "import matplotlib.pyplot as plt\n",
    "import numpy as np\n",
    "import random\n",
    "import re\n",
    "\n",
    "from IPython.display import display, Math\n",
    "from scipy import optimize\n",
    "from scipy import linalg as la\n",
    "from scipy import special\n",
    "\n",
    "from functools import reduce"
   ]
  },
  {
   "cell_type": "code",
   "execution_count": null,
   "metadata": {},
   "outputs": [],
   "source": [
    "def is_digit(x):\n",
    "    if re.match(\"^-?\\d+?\\.\\d*?$\", x) is None:\n",
    "        return False\n",
    "    return True"
   ]
  },
  {
   "cell_type": "code",
   "execution_count": null,
   "metadata": {},
   "outputs": [],
   "source": [
    "def gauss_newton(F, dF, init_vec, tol=5e-6, max_iter=100, displayQ=False):\n",
    "    convergedQ = False\n",
    "    curr_vec = copy.deepcopy(init_vec)\n",
    "    for j in range(max_iter):\n",
    "        f = np.array(F(*curr_vec))\n",
    "        jacobian = np.array(dF(*curr_vec))\n",
    "        \n",
    "        q, r = np.linalg.qr(jacobian)\n",
    "        p = -np.dot(q.T, f)\n",
    "        v = la.solve_triangular(r, p)\n",
    "        ls = optimize.nonlin._nonlin_line_search(lambda u: F(*u), curr_vec, f, v)\n",
    "        v *= ls[0]\n",
    "        \n",
    "        curr_vec += v\n",
    "        \n",
    "        if displayQ:\n",
    "            print('iter: {}, x = {}, step = {}, |d| = {}'.format(j, curr_vec, ls[0], np.linalg.norm(v, np.inf)))\n",
    "        if np.linalg.norm(v, np.inf) < tol*np.linalg.norm(curr_vec, np.inf):\n",
    "            if displayQ:\n",
    "                print('converged: iter = {}, x = {}, |d| = {}'.format(j, curr_vec, np.linalg.norm(v, np.inf)))\n",
    "            convergedQ = True\n",
    "            break\n",
    "    \n",
    "    return curr_vec, convergedQ"
   ]
  },
  {
   "cell_type": "markdown",
   "metadata": {},
   "source": [
    "## fitting a circle"
   ]
  },
  {
   "cell_type": "code",
   "execution_count": null,
   "metadata": {},
   "outputs": [],
   "source": [
    "radius_true = 3.14\n",
    "x0_true = 1.1\n",
    "y0_true = -0.7"
   ]
  },
  {
   "cell_type": "code",
   "execution_count": null,
   "metadata": {},
   "outputs": [],
   "source": [
    "def rI(x, y, x0, y0, R):\n",
    "    return (x - x0)**2 + (y - y0)**2 -R**2\n",
    "\n",
    "def rAcu(x, y, x0, y0, R):\n",
    "    assert len(x) == len(y), 'Error: lengths of x ({}) and y ({}) are different'.format(len(x), len(y))\n",
    "    return np.array([rI(i, j, x0, y0, R) for i,j in zip(x, y)])\n",
    "\n",
    "def drAcu(x, y, x0, y0, R):\n",
    "    assert len(x) == len(y), 'Error: lengths of x ({}) and y ({}) are different'.format(len(x), len(y))\n",
    "    return -2*np.array([[i - x0, j - y0, R] for i,j in zip(x, y)])"
   ]
  },
  {
   "cell_type": "code",
   "execution_count": null,
   "metadata": {},
   "outputs": [],
   "source": [
    "error_amplitude = radius_true*0.1\n",
    "number_of_points = 101\n",
    "\n",
    "x_data = []\n",
    "y_data = []\n",
    "theta_data = np.linspace(0, 2*math.pi, number_of_points)\n",
    "for theta in theta_data:\n",
    "    x_data.append(x0_true + radius_true*math.cos(theta) + error_amplitude*(1 - 2*random.random()))\n",
    "    y_data.append(y0_true + radius_true*math.sin(theta) + error_amplitude*(1 - 2*random.random()))\n",
    "\n",
    "plt.figure(figsize=(10,10))\n",
    "plt.style.use('dark_background')\n",
    "plt.rcParams.update({'font.size': 14})\n",
    "plt.rc('font')\n",
    "plt.xlabel(r'x', fontsize=16)\n",
    "plt.ylabel(r'y', fontsize=16)\n",
    "\n",
    "plt.plot(x_data, y_data, 'og')\n",
    "\n",
    "plt.show()"
   ]
  },
  {
   "cell_type": "code",
   "execution_count": null,
   "metadata": {},
   "outputs": [],
   "source": [
    "opt, is_converged = gauss_newton(lambda x0, y0, R: rAcu(x_data, y_data, x0, y0, R),\n",
    "                                 lambda x0, y0, R: drAcu(x_data, y_data, x0, y0, R), [0,0,1], tol=1e-6, displayQ=True)\n",
    "\n",
    "if is_converged:\n",
    "    print('\\nTrue radius: {0:0.4f}, fitted radius: {1:0.4f}'.format(radius_true, opt[2]))\n",
    "    print('True center: ({0:0.4f},{1:0.4f}), fitted center: ({2:0.4f},{3:0.4f})'.format(x0_true, y0_true, opt[0], opt[1]))\n",
    "else:\n",
    "    print('Gauss-Newton method did not converge.')"
   ]
  },
  {
   "cell_type": "code",
   "execution_count": null,
   "metadata": {},
   "outputs": [],
   "source": [
    "for theta in theta_data:\n",
    "    x_data.append(x0_true + radius_true*math.cos(theta) + error_amplitude*random.random())\n",
    "    y_data.append(y0_true + radius_true*math.sin(theta) + error_amplitude*random.random())\n",
    "\n",
    "x_true = [x0_true + radius_true*math.cos(theta) for theta in theta_data]\n",
    "y_true = [y0_true + radius_true*math.sin(theta) for theta in theta_data]\n",
    "\n",
    "x_pred = [opt[0] + opt[2]*math.cos(theta) for theta in theta_data]\n",
    "y_pred = [opt[1] + opt[2]*math.sin(theta) for theta in theta_data]\n",
    "\n",
    "plt.figure(figsize=(10, 10))\n",
    "plt.rc('font')\n",
    "plt.xlabel('x', fontsize=16)\n",
    "plt.ylabel('y', fontsize=16)\n",
    "plt.gca().set_aspect('equal', 'datalim')\n",
    "\n",
    "plt.plot(x_pred, y_pred,'-r')\n",
    "plt.plot(x_true, y_true,'--y')\n",
    "plt.plot(x_data, y_data, 'og')\n",
    "\n",
    "plt.show()"
   ]
  },
  {
   "cell_type": "markdown",
   "metadata": {},
   "source": [
    "## Colebrook correlation\n",
    "$$\\frac{1}{\\sqrt{f}} = -2\\log_{10}\\left(\\frac{e/D}{3.7}+\\frac{2.51}{\\mathrm{Rey}\\sqrt{f}}\\right)$$"
   ]
  },
  {
   "cell_type": "code",
   "execution_count": null,
   "metadata": {},
   "outputs": [],
   "source": [
    "raw = []\n",
    "with open('pipe.csv', 'r') as csv_file:\n",
    "    csv_reader = csv.reader(csv_file)\n",
    "    for row in csv_reader:\n",
    "        if is_digit(row[0]):\n",
    "            raw.append([float(x) for x in row])\n",
    "data = np.array(raw)\n",
    "x_data = data[:,0]\n",
    "y_data = data[:,1]\n",
    "plt.figure(figsize=(10,10))\n",
    "plt.style.use('dark_background')\n",
    "plt.plot(x_data, y_data, 'o')\n",
    "plt.xlabel('Rey')\n",
    "plt.ylabel(r'$\\frac{8\\tau}{\\rho U^2}$')\n",
    "plt.show()"
   ]
  },
  {
   "cell_type": "code",
   "execution_count": null,
   "metadata": {},
   "outputs": [],
   "source": [
    "def rCole(Re, f, x0, x1):\n",
    "    return 1./math.sqrt(f) + 2*math.log10(x0 + x1/Re/math.sqrt(f))\n",
    "\n",
    "def rColeAcu(Re, f, x0, x1):\n",
    "    assert len(Re) == len(f), 'Error: lengths of Re ({}) and f ({}) are different'.format(len(Re), len(f))\n",
    "    return np.array([rCole(i, j, x0, x1) for i,j in zip(Re, f)])\n",
    "\n",
    "def drColeAcu(Re, f, x0, x1):\n",
    "    assert len(Re) == len(f), 'Error: lengths of Re ({}) and f ({}) are different'.format(len(Re), len(f))\n",
    "    return 2.0/math.log(10.0)*np.array([[1./(x0 + x1/i/math.sqrt(j)), \n",
    "                                       1./i/math.sqrt(j)/(x0 + x1/i/math.sqrt(j))] for i,j in zip(Re, f)])"
   ]
  },
  {
   "cell_type": "code",
   "execution_count": null,
   "metadata": {},
   "outputs": [],
   "source": [
    "a_cole = 3.7\n",
    "b_cole = 2.51\n",
    "x0_cole = 1./2/69.6/a_cole\n",
    "x1_cole = 2*b_cole\n",
    "opt, is_converged = gauss_newton(lambda x0, x1: rColeAcu(x_data, y_data, x0, x1),\n",
    "                                 lambda x0, x1: drColeAcu(x_data, y_data, x0, x1), [0.001,2.0], tol=1e-6, displayQ=True)\n",
    "\n",
    "if is_converged:\n",
    "    display(Math('\\n\\\\text{{Colebrook constants: }}a = {0:0.1f}, b = {1:0.2f}'.format(a_cole, b_cole)))\n",
    "    display(Math('\\n\\\\text{{Computed constants: }}a = {0:0.4f}, b = {1:0.4f}'.format(1./2/69.6/opt[0], opt[1]/2)))\n",
    "else:\n",
    "    print('Gauss-Newton method did not converge.')"
   ]
  },
  {
   "cell_type": "code",
   "execution_count": null,
   "metadata": {},
   "outputs": [],
   "source": [
    "def f_darcy(Re, x0, x1):\n",
    "    a = x1/Re\n",
    "    l10 = math.log(10.0)\n",
    "    denom = np.real(2/l10*special.lambertw(l10/2/a*10**(x0/2/a)) - x0/a)\n",
    "    return 1/denom**2"
   ]
  },
  {
   "cell_type": "code",
   "execution_count": null,
   "metadata": {},
   "outputs": [],
   "source": [
    "Re_ = np.linspace(x_data[0], x_data[-1], 101)\n",
    "\n",
    "f_pred = [f_darcy(Re, *opt) for Re in Re_]\n",
    "f_Cole = [f_darcy(Re, x0_cole, x1_cole) for Re in Re_] \n",
    "\n",
    "plt.figure(figsize=(10, 10))\n",
    "plt.rc('font')\n",
    "plt.xlabel('Rey', fontsize=16)\n",
    "plt.ylabel(r'$\\frac{8\\tau}{\\rho U^2}$')\n",
    "\n",
    "plt.plot(Re_, f_pred,'-r', label='nonlinear fit')\n",
    "plt.plot(Re_, f_Cole,'-y', label='Colebrook')\n",
    "plt.plot(x_data, y_data, 'o', label='experiments')\n",
    "plt.legend()\n",
    "\n",
    "plt.show()"
   ]
  },
  {
   "cell_type": "code",
   "execution_count": null,
   "metadata": {},
   "outputs": [],
   "source": []
  }
 ],
 "metadata": {
  "kernelspec": {
   "display_name": "Python 3",
   "language": "python",
   "name": "python3"
  },
  "language_info": {
   "codemirror_mode": {
    "name": "ipython",
    "version": 3
   },
   "file_extension": ".py",
   "mimetype": "text/x-python",
   "name": "python",
   "nbconvert_exporter": "python",
   "pygments_lexer": "ipython3",
   "version": "3.7.1"
  }
 },
 "nbformat": 4,
 "nbformat_minor": 2
}
