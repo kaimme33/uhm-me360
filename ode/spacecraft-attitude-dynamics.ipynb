{
 "cells": [
  {
   "cell_type": "markdown",
   "metadata": {},
   "source": [
    "# Spacecraft attitude dynamics\n",
    "<center> <img width=\"700\" src=\"SolarSwingBy.gif\"/>"
   ]
  },
  {
   "cell_type": "code",
   "execution_count": 1,
   "metadata": {},
   "outputs": [],
   "source": [
    "import math, time\n",
    "import numpy as np\n",
    "import matplotlib.pyplot as plt\n",
    "\n",
    "from scipy.integrate import solve_ivp\n",
    "\n",
    "from IPython.display import display, Math\n",
    "\n",
    "from plotly.graph_objs import FigureWidget\n",
    "import plotly.offline as py\n",
    "import plotly.graph_objs as go"
   ]
  },
  {
   "cell_type": "code",
   "execution_count": 2,
   "metadata": {},
   "outputs": [
    {
     "data": {
      "text/latex": [
       "$\\displaystyle J_1 = 6.82005517483939 kg.m^2$"
      ],
      "text/plain": [
       "<IPython.core.display.Math object>"
      ]
     },
     "metadata": {},
     "output_type": "display_data"
    },
    {
     "data": {
      "text/latex": [
       "$\\displaystyle J_2 = 6.82005517483939 kg.m^2$"
      ],
      "text/plain": [
       "<IPython.core.display.Math object>"
      ]
     },
     "metadata": {},
     "output_type": "display_data"
    },
    {
     "data": {
      "text/latex": [
       "$\\displaystyle J_3 = 6.251413716694115 kg.m^2$"
      ],
      "text/plain": [
       "<IPython.core.display.Math object>"
      ]
     },
     "metadata": {},
     "output_type": "display_data"
    }
   ],
   "source": [
    "# constants and parameters\n",
    "GOLDEN_RATIO = (math.sqrt(5) + 1)/2\n",
    "\n",
    "R_CRAFT = 0.25\n",
    "H_CRAFT = 0.35\n",
    "E_CRAFT = (0,0,1)\n",
    "M_CRAFT = 100\n",
    "JZZ = M_CRAFT*R_CRAFT**2\n",
    "JXX = JYY = M_CRAFT*(R_CRAFT**2/2 + H_CRAFT**2/12)\n",
    "L_BOOM = 1.2\n",
    "R_BOOM = 0.05\n",
    "M_BOOM = 2700*4/3*math.pi*R_BOOM**3 # aluminum\n",
    "JZZ_BOOM = 2*M_BOOM*R_BOOM**2/5\n",
    "JXX_BOOM = JYY_BOOM = JZZ_BOOM + M_BOOM*(L_BOOM + H_CRAFT/2)**2\n",
    "\n",
    "JXX += JXX_BOOM\n",
    "JYY += JYY_BOOM\n",
    "JZZ += JZZ_BOOM\n",
    "\n",
    "MU = 3.986004e14\n",
    "\n",
    "N=2*math.pi/(60*93)\n",
    "R=(MU/N*N)**(1/3)\n",
    "\n",
    "display(Math(r'J_1 = {} kg.m^2'.format(JXX)))\n",
    "display(Math(r'J_2 = {} kg.m^2'.format(JYY)))\n",
    "display(Math(r'J_3 = {} kg.m^2'.format(JZZ)))"
   ]
  },
  {
   "cell_type": "markdown",
   "metadata": {},
   "source": [
    "## Stability map\n",
    "<center> <img src=\"stability.pdf\" width=450/>\n",
    "<center> Green: stable. Light-grey: pitch unstable. Grey: yaw/roll unstable. Black: pitch/yaw/roll unstable."
   ]
  },
  {
   "cell_type": "code",
   "execution_count": 3,
   "metadata": {},
   "outputs": [
    {
     "data": {
      "text/latex": [
       "$\\displaystyle k_1 = 0.08337783838510754$"
      ],
      "text/plain": [
       "<IPython.core.display.Math object>"
      ]
     },
     "metadata": {},
     "output_type": "display_data"
    },
    {
     "data": {
      "text/latex": [
       "$\\displaystyle k_3 = 0.0$"
      ],
      "text/plain": [
       "<IPython.core.display.Math object>"
      ]
     },
     "metadata": {},
     "output_type": "display_data"
    },
    {
     "data": {
      "text/latex": [
       "$\\displaystyle \\text{Pitch: } J_1 > J_3: True$"
      ],
      "text/plain": [
       "<IPython.core.display.Math object>"
      ]
     },
     "metadata": {},
     "output_type": "display_data"
    },
    {
     "data": {
      "text/latex": [
       "$\\displaystyle \\text{Yaw/roll: } k_1k_3 > 0: False$"
      ],
      "text/plain": [
       "<IPython.core.display.Math object>"
      ]
     },
     "metadata": {},
     "output_type": "display_data"
    },
    {
     "data": {
      "text/latex": [
       "$\\displaystyle \\text{Yaw/roll: } 1 + 3k_1 + k_1k_3 > 0: True$"
      ],
      "text/plain": [
       "<IPython.core.display.Math object>"
      ]
     },
     "metadata": {},
     "output_type": "display_data"
    },
    {
     "data": {
      "text/latex": [
       "$\\displaystyle \\text{Yaw/roll: } \\left(1 + 3k_1 + k_1k_3\\right)^2 - 16k_1k_3 > 0: True$"
      ],
      "text/plain": [
       "<IPython.core.display.Math object>"
      ]
     },
     "metadata": {},
     "output_type": "display_data"
    }
   ],
   "source": [
    "# stability conditions\n",
    "k1 = (JYY - JZZ)/JXX\n",
    "k3 = (JYY - JXX)/JZZ\n",
    "display(Math(r'k_1 = {}'.format(k1)))\n",
    "display(Math(r'k_3 = {}'.format(k3)))\n",
    "\n",
    "display(Math(r'\\text{{Pitch: }} J_1 > J_3: {}'.format(JXX>JZZ)))\n",
    "display(Math(r'\\text{{Yaw/roll: }} k_1k_3 > 0: {}'.format(k1*k3>0)))\n",
    "display(Math(r'\\text{{Yaw/roll: }} 1 + 3k_1 + k_1k_3 > 0: {}'.format(1 + 3*k1 + k1*k3 > 0)))\n",
    "display(Math(r'\\text{{Yaw/roll: }} \\left(1 + 3k_1 + k_1k_3\\right)^2 - 16k_1k_3 > 0: {}'.format((1 + 3*k1 + k1*k3) > 16*k1*k3)))"
   ]
  },
  {
   "cell_type": "code",
   "execution_count": 4,
   "metadata": {},
   "outputs": [],
   "source": [
    "# gravity gradient rotational dynamics of a rigid spacecraft\n",
    "# Euler angles: 3-2-1\n",
    "def f(t, x):\n",
    "    assert len(x) == 6, 'Error: length of x is {}, but should be 6'.format(len(x))\n",
    "    \n",
    "    ϕ = x[0]\n",
    "    θ = x[1]\n",
    "    ψ = x[2]\n",
    "    \n",
    "    p = x[3]\n",
    "    q = x[4]\n",
    "    r = x[5]\n",
    "    \n",
    "    cϕ = math.cos(ϕ)\n",
    "    sϕ = math.sin(ϕ)\n",
    "    cθ = math.cos(θ)\n",
    "    sθ = math.sin(θ)\n",
    "    cψ = math.cos(ψ)\n",
    "    sψ = math.sin(ψ)\n",
    "    \n",
    "    kX = (JYY - JZZ)/JXX\n",
    "    kY = (JZZ - JXX)/JYY\n",
    "    kZ = (JXX - JYY)/JZZ\n",
    "    \n",
    "    c13 = -sθ\n",
    "    c23 = sϕ*cθ\n",
    "    c33 = cϕ*cθ\n",
    "    \n",
    "    p_dot = kX*q*r - 3*N*N*kX*c23*c33\n",
    "    q_dot = kY*r*p - 3*N*N*kY*c33*c13\n",
    "    r_dot = kZ*p*q - 3*N*N*kZ*c13*c23\n",
    "    \n",
    "    ϕ_dot = p + (sϕ*sθ*q + cϕ*sθ*r)/cθ + N*sψ/cθ\n",
    "    θ_dot = (cϕ*cθ*q - sϕ*cθ*r)/cθ + N*cψ\n",
    "    ψ_dot = (sϕ*q + cϕ*r)/cθ + N*sθ*sψ/cθ\n",
    "    \n",
    "    return np.array([ϕ_dot, θ_dot, ψ_dot, p_dot, q_dot, r_dot])"
   ]
  },
  {
   "cell_type": "code",
   "execution_count": 5,
   "metadata": {},
   "outputs": [],
   "source": [
    "start_time = 0.0\n",
    "orbit_period = 2*math.pi/N\n",
    "stop_time = 2*orbit_period\n",
    "number_of_frames = 500\n",
    "eval_times = np.linspace(start_time, stop_time, number_of_frames)\n",
    "\n",
    "ϵ = 1e-4\n",
    "x0 = np.array([0., 0. , 0. , ϵ, -N, 0.])\n",
    "\n",
    "sol = solve_ivp(f, (start_time, stop_time), x0, method='RK45', t_eval=eval_times)"
   ]
  },
  {
   "cell_type": "code",
   "execution_count": 6,
   "metadata": {},
   "outputs": [],
   "source": [
    "def angle(θ):\n",
    "    zero_360 = θ*180/math.pi % 360\n",
    "    zero_360[zero_360 > 180] -= 360\n",
    "    return zero_360\n"
   ]
  },
  {
   "cell_type": "code",
   "execution_count": 7,
   "metadata": {},
   "outputs": [
    {
     "data": {
      "image/png": "[encoded data removed]",
      "text/plain": [
       "<Figure size 931.988x576 with 1 Axes>"
      ]
     },
     "metadata": {
      "needs_background": "dark"
     },
     "output_type": "display_data"
    }
   ],
   "source": [
    "figure_size = (GOLDEN_RATIO*8, 8)\n",
    "plt.figure(figsize=figure_size)\n",
    "plt.style.use('dark_background')\n",
    "plt.plot(sol.t, angle(sol.y[0]), 'w', label='ϕ')\n",
    "plt.plot(sol.t, angle(sol.y[1]), 'r', label='θ')\n",
    "plt.plot(sol.t, angle(sol.y[2]), '#AAAAAA', label='ψ')\n",
    "plt.legend(loc='best')\n",
    "plt.xlabel('time [s]')\n",
    "plt.ylabel('attitude [degree]')\n",
    "plt.show()"
   ]
  },
  {
   "cell_type": "code",
   "execution_count": 8,
   "metadata": {},
   "outputs": [
    {
     "data": {
      "image/png": "[encoded data removed]",
      "text/plain": [
       "<Figure size 931.988x576 with 1 Axes>"
      ]
     },
     "metadata": {},
     "output_type": "display_data"
    }
   ],
   "source": [
    "to_rpm = 60/2/math.pi\n",
    "to_rpo = 1/N\n",
    "plt.figure(figsize=figure_size)\n",
    "plt.style.use('dark_background')\n",
    "plt.plot(sol.t, sol.y[3]*to_rpo, 'w', label='p')\n",
    "plt.plot(sol.t, sol.y[4]*to_rpo, 'r', label='q')\n",
    "plt.plot(sol.t, sol.y[5]*to_rpo, '#AAAAAA', label='r')\n",
    "plt.legend(loc='best')\n",
    "plt.xlabel('time [s]')\n",
    "plt.ylabel('angular velocity [rpo]')\n",
    "plt.show()"
   ]
  },
  {
   "cell_type": "code",
   "execution_count": 9,
   "metadata": {},
   "outputs": [],
   "source": [
    "def rotation_matrix(ϕ, θ, ψ):\n",
    "    cϕ = math.cos(ϕ)\n",
    "    sϕ = math.sin(ϕ)\n",
    "    cθ = math.cos(θ)\n",
    "    sθ = math.sin(θ)\n",
    "    cψ = math.cos(ψ)\n",
    "    sψ = math.sin(ψ)\n",
    "\n",
    "    return np.array([[cθ*cψ, sϕ*sθ*cψ - cϕ*sψ, cϕ*sθ*cψ + sϕ*sψ],\n",
    "                     [cθ*sψ, sϕ*sθ*sψ + cϕ*cψ, cϕ*sθ*sψ - sϕ*cψ],\n",
    "                     [-sθ, sϕ*cθ, cϕ*cθ]])\n",
    "\n",
    "def generate_sphere(radius, center, num=20):\n",
    "    u1 = np.linspace(0, 2 * np.pi, num)\n",
    "    v1 = u1.copy()\n",
    "    uu, vv = np.meshgrid(u1, v1)\n",
    "\n",
    "    x_center, y_center, z_center = center\n",
    "\n",
    "    xx = x_center + radius * np.cos(uu) * np.sin(vv)\n",
    "    yy = y_center + radius * np.sin(uu) * np.sin(vv)\n",
    "    zz = z_center + radius * np.cos(vv)\n",
    "\n",
    "    return xx, yy, zz\n",
    "\n",
    "def generate_cylinder(r, h, e, center=(0,0,0), attitude=(0,0,0), numT=9, numZ=2):\n",
    "    tol = 1e-6\n",
    "    assert np.linalg.norm(e) > tol, 'Error: degenerate generatrix direction e = {}'.format(e)\n",
    "    \n",
    "    u1 = np.linspace(0, 2 * math.pi, numT)\n",
    "    v1 = np.linspace(0, h, numZ)\n",
    "    uu, vv = np.meshgrid(u1, v1)\n",
    "\n",
    "    x_center, y_center, z_center = center \n",
    "    \n",
    "    e /= np.linalg.norm(e)\n",
    "    if np.linalg.norm([e[0], e[1]]) > tol:\n",
    "        a = np.array([-e[1], e[0], e[2]])\n",
    "    else:\n",
    "        a = np.array([1,0,0])\n",
    "    \n",
    "    n = np.cross(a,e)\n",
    "    n /= np.linalg.norm(n)    \n",
    "\n",
    "    xyz = np.array([r*math.cos(u)*n + r*math.sin(u)*np.cross(e, n) + (v - h/2)*e\n",
    "                    for u_row, v_row in zip(uu,vv)\n",
    "                    for u,v in zip(u_row, v_row)])\n",
    "    \n",
    "    xyz = np.array([rotation_matrix(*attitude).dot(np.array([x,y,z]))\n",
    "                    for x,y,z in xyz])\n",
    "    \n",
    "    xx = xyz[:,0].reshape(numT,numZ)\n",
    "    yy = xyz[:,1].reshape(numT,numZ)\n",
    "    zz = xyz[:,2].reshape(numT,numZ)\n",
    "    \n",
    "    xx += x_center\n",
    "    yy += y_center\n",
    "    zz += z_center\n",
    "\n",
    "    return xx, yy, zz\n",
    "\n",
    "def draw_craft(cylinder, boom, attitude):\n",
    "    craft = []\n",
    "    \n",
    "    # body data\n",
    "    r, h, e, center_of_mass = cylinder\n",
    "    # boom data\n",
    "    r_sphere, center_of_sphere = boom\n",
    "    rotated_center = rotation_matrix(*attitude).dot(np.asarray(center_of_mass) + np.asarray(center_of_sphere))\n",
    "    \n",
    "    # tube\n",
    "    tube = go.Scatter3d(\n",
    "        x = np.array([center_of_mass[0], rotated_center[0]]),\n",
    "        y = np.array([center_of_mass[1], rotated_center[1]]),\n",
    "        z = np.array([center_of_mass[2], rotated_center[2]]),\n",
    "        mode = 'lines',\n",
    "        line = dict(\n",
    "            color = colors['boom']\n",
    "        ),\n",
    "        name = None,\n",
    "        showlegend=False\n",
    "    )\n",
    "    craft.append(tube)\n",
    "    \n",
    "    # sphere\n",
    "    xx, yy, zz = generate_sphere(r_sphere, rotated_center)\n",
    "    boom = go.Mesh3d({\n",
    "                'x': xx.flatten(), \n",
    "                'y': yy.flatten(),\n",
    "                'z': zz.flatten(), \n",
    "                'name': 'craft',\n",
    "                'alphahull': 0,\n",
    "                'color': colors['boom']\n",
    "    })\n",
    "    craft.append(boom)\n",
    "    \n",
    "    # main body\n",
    "    xx, yy, zz = generate_cylinder(r, h, e, center=center_of_mass, attitude=(ϕ,θ,ψ))\n",
    "    cylinder = go.Mesh3d({\n",
    "                'x': xx.flatten(), \n",
    "                'y': yy.flatten(),\n",
    "                'z': zz.flatten(), \n",
    "                'name': 'craft',\n",
    "                'alphahull': 0,\n",
    "                'color': colors['craft']\n",
    "    })\n",
    "    craft.append(cylinder)\n",
    "    \n",
    "    return craft"
   ]
  },
  {
   "cell_type": "code",
   "execution_count": 10,
   "metadata": {},
   "outputs": [
    {
     "data": {
      "text/plain": [
       "'file:///Users/marcelo/Documents/UH/ME 360/Jupyter/lectures/ode/spacecraft-attitude-dynamics-animation.html'"
      ]
     },
     "execution_count": 10,
     "metadata": {},
     "output_type": "execute_result"
    }
   ],
   "source": [
    "colors = dict()\n",
    "colors[\"boom\"] = \"#888888\"\n",
    "colors[\"craft\"] = \"#888888\"\n",
    "\n",
    "font_color = '#AAAAAA'\n",
    "axis_bg_color = \"#101010\"\n",
    "grid_color = \"#516883\"\n",
    "\n",
    "trace_earth = go.Scatter3d(\n",
    "    x = np.array([0, 0]),\n",
    "    y = np.array([0, 0]),\n",
    "    z = np.array([0, H_CRAFT + R_CRAFT + L_BOOM]),\n",
    "    mode = 'lines',\n",
    "    name=None,\n",
    "    showlegend=False\n",
    ")\n",
    "\n",
    "data = [trace_earth]*4\n",
    "\n",
    "# configurations\n",
    "frames = []\n",
    "for ϕ,θ,ψ in zip(sol.y[0], sol.y[1], sol.y[2]):\n",
    "    craft_k_frame = draw_craft((R_CRAFT, H_CRAFT, E_CRAFT,(0,0,0)), (R_BOOM,(0,0,-(H_CRAFT/2 + L_BOOM))), (ϕ,θ,ψ))\n",
    "    frames.append(dict(data=craft_k_frame))\n",
    "\n",
    "scene_range = [-(H_CRAFT/2 + R_CRAFT + L_BOOM), H_CRAFT + R_CRAFT + L_BOOM]\n",
    "layout = go.Layout(\n",
    "    paper_bgcolor='#000000',\n",
    "    transition=dict(duration=0),\n",
    "    font = dict(color=font_color),\n",
    "    scene = dict(\n",
    "                    xaxis = dict(\n",
    "                         title='x [m]',\n",
    "                         nticks=7,\n",
    "                         range=scene_range,\n",
    "                         backgroundcolor=axis_bg_color,\n",
    "                         gridcolor=grid_color,\n",
    "                         showbackground=True,\n",
    "                         zerolinecolor=grid_color,),\n",
    "                    yaxis = dict(\n",
    "                        title='y [m]',\n",
    "                        nticks=7,\n",
    "                        range=scene_range,\n",
    "                        backgroundcolor=axis_bg_color,\n",
    "                        gridcolor=grid_color,\n",
    "                        showbackground=True,\n",
    "                        zerolinecolor=grid_color),\n",
    "                    zaxis = dict(\n",
    "                        title='z [m]',\n",
    "                        nticks=7,\n",
    "                        range=scene_range,\n",
    "                        backgroundcolor=axis_bg_color,\n",
    "                        gridcolor=grid_color,\n",
    "                        showbackground=True,\n",
    "                        zerolinecolor=grid_color,),\n",
    "                    aspectratio = dict( x=1, y=1, z=1 ),\n",
    "                    aspectmode = 'manual'\n",
    "    ),\n",
    "    title = \"Spacecraft Attitude Dynamics\",\n",
    "    updatemenus=[{\n",
    "                   'buttons': [\n",
    "                       {'args': [None, {'frame': {'duration': 0, 'redraw': False},\n",
    "                         'fromcurrent': True, 'transition': {'duration': 0}}],\n",
    "                        'label': 'Play',\n",
    "                        'method': 'animate'}\n",
    "               ],\n",
    "               'pad': {'r': 10, 't': 87},\n",
    "               'showactive': False,\n",
    "               'type': 'buttons'\n",
    "                }]\n",
    ")\n",
    "\n",
    "fig = go.Figure(data=data, layout=layout, frames=frames)\n",
    "\n",
    "py.plot(fig, filename='spacecraft-attitude-dynamics-animation.html')"
   ]
  },
  {
   "cell_type": "code",
   "execution_count": null,
   "metadata": {},
   "outputs": [],
   "source": []
  }
 ],
 "metadata": {
  "kernelspec": {
   "display_name": "Python 3",
   "language": "python",
   "name": "python3"
  },
  "language_info": {
   "codemirror_mode": {
    "name": "ipython",
    "version": 3
   },
   "file_extension": ".py",
   "mimetype": "text/x-python",
   "name": "python",
   "nbconvert_exporter": "python",
   "pygments_lexer": "ipython3",
   "version": "3.7.1"
  }
 },
 "nbformat": 4,
 "nbformat_minor": 2
}
