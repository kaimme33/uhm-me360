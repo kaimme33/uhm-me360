{
 "cells": [
  {
   "cell_type": "markdown",
   "metadata": {},
   "source": [
    "# Floating Point Operations\n",
    "https://docs.python.org/3/tutorial/floatingpoint.html"
   ]
  },
  {
   "cell_type": "code",
   "execution_count": 11,
   "metadata": {},
   "outputs": [
    {
     "name": "stdout",
     "output_type": "stream",
     "text": [
      "a =  9.4\n",
      "a - 9 =  0.40000000000000036\n",
      "(a - 9) - 0.4 =  3.3306690738754696e-16\n",
      "c == 0? False\n"
     ]
    }
   ],
   "source": [
    "a = 9.4\n",
    "b = a - 9\n",
    "c = b - 0.4\n",
    "print('a = ', a)\n",
    "print('a - 9 = ', b)\n",
    "print('(a - 9) - 0.4 = ', c)\n",
    "print('c == 0?', c == 0.0)"
   ]
  },
  {
   "cell_type": "code",
   "execution_count": 12,
   "metadata": {},
   "outputs": [
    {
     "name": "stdout",
     "output_type": "stream",
     "text": [
      "a =  9.4\n",
      "a - 0.4 =  9.0\n",
      "(a - 0.4) - 9 =  0.0\n",
      "c == 0? True\n"
     ]
    }
   ],
   "source": [
    "a = 9.4\n",
    "b = a - 0.4\n",
    "c = b - 9\n",
    "print('a = ', a)\n",
    "print('a - 0.4 = ', b)\n",
    "print('(a - 0.4) - 9 = ', c)\n",
    "print('c == 0?', c == 0.0)"
   ]
  },
  {
   "cell_type": "markdown",
   "metadata": {},
   "source": [
    "## IEEE 754 Floating Point Standard"
   ]
  },
  {
   "cell_type": "markdown",
   "metadata": {},
   "source": [
    "**Normalized** IEEE floating point: $\\pm1.bbb\\ldots b\\times2^p$"
   ]
  },
  {
   "cell_type": "markdown",
   "metadata": {},
   "source": [
    "| precision | sign   | exponent   | mantissa   |\n",
    "|------|------|------|------|\n",
    "|   single  | 1 | 8 | 23 |\n",
    "|   double  | 1 | 11 | 52 |\n",
    "|   long double  | 1 | 15 | 64 |"
   ]
  },
  {
   "cell_type": "markdown",
   "metadata": {},
   "source": [
    "## Machine epsilon\n",
    "**Machine epsilon**, $\\epsilon_{\\rm mach}$, is the distance between 1 and the smallest floating number greater than 1.\n",
    "$$\\epsilon_{\\rm mach} = 2^{-52}\\approx 2.22045\\times10^{-16}$$"
   ]
  },
  {
   "cell_type": "markdown",
   "metadata": {},
   "source": [
    "## IEEE Rounding to Nearest Rule\n",
    "For double precision, if the 53rd bit to the right of the binary points is 0, then round down; otherwise, round up, unless all known bits to the right of the 1 are 0's, in which case 1 is added to the 52nd bit if and only if the bit 52 is 1."
   ]
  },
  {
   "cell_type": "markdown",
   "metadata": {},
   "source": [
    "**Example 1**\n",
    "\n",
    "Float point representation of 9.4.\n",
    "\n",
    "\\begin{align}\n",
    "9 \\div 2 = 4\\ R\\ 1 & \\hspace{10pt} 1\\\\\n",
    "4 \\div 2 = 2\\ R\\ 0 & \\hspace{10pt} 0\\\\\n",
    "2 \\div 2 = 1\\ R\\ 0 & \\hspace{10pt} 0\\\\\n",
    "1 \\div 2 = 0\\ R\\ 1 & \\hspace{10pt} 1\\\\\n",
    "\\end{align}\n",
    "$9_{10} = 1001_2$\n",
    "\n",
    "\\begin{align}\n",
    "0.4 \\times 2 = 0.8 + 0& \\hspace{10pt}0\\\\\n",
    "0.8 \\times 2 = 0.6 + 1& \\hspace{10pt}1\\\\\n",
    "0.6 \\times 2 = 0.2 + 1& \\hspace{10pt}1\\\\\n",
    "0.2 \\times 2 = 0.4 + 0& \\hspace{10pt}0\\\\\n",
    "0.4 \\times 2 = 0.8 + 0& \\hspace{10pt}0\\\\\n",
    "&\\hspace{10pt}\\vdots\\\\\n",
    "\\end{align}\n",
    "$0.4_{10} = 0.\\overline{0110}_2$\n",
    "\n",
    "The float point representation is then,\n",
    "$$\\mathsf{fl}(9.4)=+1.00101100110011001100110011001100110011001100110011001\\times2^{3}$$\n",
    "\n",
    "\\begin{align}\n",
    "\\mathsf{fl}(9.4)&=9.4 + 2^{-49} - 0.4\\times 2^{-48}\\\\\n",
    "&=9.4 + 0.2\\times 2^{-49}\n",
    "\\end{align}\n",
    "\n",
    "$$\\mathsf{fl}(9.4 - 9)=0.4 + 0.2\\times 2^{-49}$$\n",
    "\n",
    "$$\\mathsf{fl}(0.4) = 0.4 + 0.1\\times 2^{-52}$$\n",
    "\n",
    "\\begin{align}\n",
    "\\mathsf{fl}(9.4 - 9) - \\mathsf{fl}(0.4) &= 0.2\\times 2^{-49} - 0.1\\times 2^{-52}\\\\\n",
    "&=0.1\\times 2^{-52}(2^4 - 1)\\\\&= 3\\times 2^{-53}\n",
    "\\end{align}"
   ]
  },
  {
   "cell_type": "code",
   "execution_count": 3,
   "metadata": {},
   "outputs": [
    {
     "name": "stdout",
     "output_type": "stream",
     "text": [
      "fl(9.4 - 9) - fl(0.4) = 3.3306690738754696e-16\n",
      "3x2^-53 = 3.3306690738754696e-16\n"
     ]
    }
   ],
   "source": [
    "print('fl(9.4 - 9) - fl(0.4) = {}'.format((9.4 - 9) - 0.4))\n",
    "print('3x2^-53 = {}'.format(3*2**(-53)))"
   ]
  },
  {
   "cell_type": "markdown",
   "metadata": {},
   "source": [
    "**Example 2**\n",
    "\n",
    "Float point representation of 1.1.\n",
    "\n",
    "$1_{10} = 1_2$\n",
    "\n",
    "\\begin{align}\n",
    "0.1 \\times 2 = 0.2 + 0& \\hspace{10pt}0\\\\\n",
    "0.2 \\times 2 = 0.4 + 0& \\hspace{10pt}0\\\\\n",
    "0.4 \\times 2 = 0.8 + 0& \\hspace{10pt}0\\\\\n",
    "0.8 \\times 2 = 0.6 + 1& \\hspace{10pt}1\\\\\n",
    "0.6 \\times 2 = 0.2 + 1& \\hspace{10pt}1\\\\\n",
    "0.2 \\times 2 = 0.4 + 0& \\hspace{10pt}0\\\\\n",
    "0.4 \\times 2 = 0.8 + 0& \\hspace{10pt}0\\\\\n",
    "&\\hspace{10pt}\\vdots\\\\\n",
    "\\end{align}\n",
    "$0.1_{10} = 0.0\\overline{0011}_2$\n",
    "\n",
    "The float point representation is then,\n",
    "$$\\mathsf{fl}(1.1)=+1.0001100110011001100110011001100110011001100110011001\\times 2^0$$\n",
    "\n",
    "\\begin{align}\n",
    "\\mathsf{fl}(1.1)&=1.1 + 2^{-52} - 1.2\\times 2^{-53}\\\\\n",
    "&=1.1 + 0.8\\times 2^{-53}\n",
    "\\end{align}\n",
    "\n",
    "$$\\mathsf{fl}(1.1 - 1) = 0.1 + 0.8\\times 2^{-53}$$\n",
    "\n",
    "$$\\mathsf{fl}(0.1) = 0.1 + 0.8\\times 2^{-57}$$\n",
    "\n",
    "\\begin{align}\n",
    "\\mathsf{fl}(1.1 - 1) - \\mathsf{fl}(0.1) &= 0.8\\times 2^{-53} - 0.8\\times 2^{-57}\\\\\n",
    "&=0.8\\times 2^{-57}(2^4 - 1)\\\\&= 3\\times 2^{-55}\n",
    "\\end{align}"
   ]
  },
  {
   "cell_type": "code",
   "execution_count": 4,
   "metadata": {},
   "outputs": [
    {
     "name": "stdout",
     "output_type": "stream",
     "text": [
      "a =  1.1\n",
      "a - 1 =  0.10000000000000009\n",
      "(a - 1) - 0.1 =  8.326672684688674e-17\n",
      "3x2^-55 =  8.326672684688674e-17\n"
     ]
    }
   ],
   "source": [
    "a = 1.1\n",
    "b = a - 1\n",
    "c = b - 0.1\n",
    "print('a = ', a)\n",
    "print('a - 1 = ', b)\n",
    "print('(a - 1) - 0.1 = ', c)\n",
    "print('3x2^-55 = ', 3*2**-55)"
   ]
  },
  {
   "cell_type": "markdown",
   "metadata": {},
   "source": [
    "**Example 3**\n",
    "\n",
    "$$\\mathsf{fl}(1 + 2^{-53}) = 1$$"
   ]
  },
  {
   "cell_type": "code",
   "execution_count": 5,
   "metadata": {},
   "outputs": [
    {
     "name": "stdout",
     "output_type": "stream",
     "text": [
      "fl(1 + 2^(-53)) =  1.0\n",
      "Is fl(1 + 2**(-53)) equal 1? True\n"
     ]
    }
   ],
   "source": [
    "print('fl(1 + 2^(-53)) = ', 1 + 2**(-53))\n",
    "print('Is fl(1 + 2**(-53)) equal 1?',1 + 2**(-53) == 1)"
   ]
  },
  {
   "cell_type": "code",
   "execution_count": 6,
   "metadata": {},
   "outputs": [
    {
     "name": "stdout",
     "output_type": "stream",
     "text": [
      "a =  1.1\n",
      "a - 1 =  0.10000000000000009\n",
      "(a - 1) - 0.1 =  8.326672684688674e-17\n",
      "3x2^-55 =  8.326672684688674e-17\n",
      "Is a - 1 ≐ 0.1?  True\n"
     ]
    }
   ],
   "source": [
    "def almost_equal(a, b, eps = 1e-15):\n",
    "    return abs(a - b) < eps\n",
    "\n",
    "a = 1.1\n",
    "b = a - 1\n",
    "c = b - 0.1\n",
    "print('a = ', a)\n",
    "print('a - 1 = ', b)\n",
    "print('(a - 1) - 0.1 = ', c)\n",
    "print('3x2^-55 = ', 3*2**-55)\n",
    "\n",
    "print('Is a - 1 ≐ 0.1? ', almost_equal(a - 1, 0.1))"
   ]
  },
  {
   "cell_type": "markdown",
   "metadata": {},
   "source": [
    "**Relative error:** $\\mathsf{fl}(x)=x(1+\\epsilon),\\ \\text{with }\\epsilon \\le \\epsilon_{\\rm mach}$\n",
    "\n",
    "**Floating point operations:**\n",
    "\\begin{align}\n",
    "\\mathsf{fl}(x + y)&=(x + y)(1 + \\epsilon_1)\\\\\n",
    "\\mathsf{fl}(x - y)&=(x - y)(1 + \\epsilon_2)\\\\\n",
    "\\mathsf{fl}(x \\times y)&=(x \\times y)(1 + \\epsilon_3)\\\\\n",
    "\\mathsf{fl}(x \\div y)&=(x \\div y)(1 + \\epsilon_4)\n",
    "\\end{align}"
   ]
  },
  {
   "cell_type": "markdown",
   "metadata": {},
   "source": [
    "**Example 4 – Error propagation**\n",
    "\\begin{align}\n",
    "y &= a + b + c\\\\\n",
    "\\dot{y} &= \\mathsf{fl}((a + b) + c)\\\\\n",
    "\\ddot{y} &= \\mathsf{fl}(a + (b + c))\n",
    "\\end{align}\n",
    "\n",
    "\\begin{align}\n",
    "\\eta &= \\mathsf{fl}(a + b) = (a + b)(1 + \\epsilon_1)\\\\\n",
    "\\dot{y} &= \\mathsf{fl}(\\eta + c) = (\\eta + c)(1 + \\epsilon_2)\\\\\n",
    " &= ((a + b)(1 + \\epsilon_1) + c)(1 + \\epsilon_2)\\\\\n",
    " &=(a+b+c)\\left[1 + \\frac{a + b}{a + b + c}\\epsilon_1(1+\\epsilon_2)+\\epsilon_2\\right].\n",
    "\\end{align}\n",
    "\n",
    "The relative error, $\\epsilon_{\\dot{y}} = (\\dot{y} - y)/y$,  of $\\dot{y}$ to within first order is equal to:\n",
    "$$ \\epsilon_{\\dot{y}} \\dot{=} \\frac{a + b}{a + b + c}\\epsilon_1 + \\epsilon_2$$\n",
    "\n",
    "With similar computations, we obtain:\n",
    "$$ \\epsilon_{\\ddot{y}} \\dot{=} \\frac{b + c}{a + b + c}\\epsilon_1 + \\epsilon_2$$\n",
    "\n"
   ]
  },
  {
   "cell_type": "code",
   "execution_count": 7,
   "metadata": {},
   "outputs": [
    {
     "name": "stdout",
     "output_type": "stream",
     "text": [
      "(a + b) + c = 6.1917577e-02\n",
      "a + (b + c) = 6.1823372e-02\n",
      "Exact: a + b + c = 6.18023371258e-02\n"
     ]
    }
   ],
   "source": [
    "import numpy as np\n",
    "\n",
    "a = 0.000023371258\n",
    "b = 3367.8429\n",
    "c = -3367.7811\n",
    "eta = np.float32(a + b)\n",
    "zeta = np.float32(b + c)\n",
    "print('(a + b) + c = {0:.7e}'.format(np.float32((eta + c))))\n",
    "print('a + (b + c) = {0:.7e}'.format(np.float32((a + zeta))))\n",
    "print('Exact: a + b + c = 6.18023371258e-02')"
   ]
  },
  {
   "cell_type": "code",
   "execution_count": 8,
   "metadata": {},
   "outputs": [
    {
     "name": "stdout",
     "output_type": "stream",
     "text": [
      "(a + b) + c = 6.182337125801496e-02\n",
      "a + (b + c) = 6.182337125794834e-02\n",
      "Exact: a + b + c = 6.18023371258e-02\n"
     ]
    }
   ],
   "source": [
    "a = 0.000023371258\n",
    "b = 3367.8429\n",
    "c = -3367.7811\n",
    "eta = a + b\n",
    "zeta = b + c\n",
    "print('(a + b) + c = {0:.15e}'.format(eta + c))\n",
    "print('a + (b + c) = {0:.15e}'.format(a + zeta))\n",
    "print('Exact: a + b + c = 6.18023371258e-02')"
   ]
  },
  {
   "cell_type": "code",
   "execution_count": 9,
   "metadata": {},
   "outputs": [
    {
     "name": "stdout",
     "output_type": "stream",
     "text": [
      "fl(sin(x)) = 0.9842895889634229\n"
     ]
    }
   ],
   "source": [
    "import math\n",
    "\n",
    "# try to get the largest number from fl(sin(2*pi*n)) by choosing an appropriate value of an integer n\n",
    "x = 2*math.pi*999999999999999999\n",
    "print('fl(sin(x)) =', math.sin(x))"
   ]
  },
  {
   "cell_type": "markdown",
   "metadata": {},
   "source": [
    "# Python modules: decimal and fractions"
   ]
  },
  {
   "cell_type": "code",
   "execution_count": 10,
   "metadata": {},
   "outputs": [
    {
     "name": "stdout",
     "output_type": "stream",
     "text": [
      "1.414213562373095048801688724209698078569671875376948073176679737990732478462107038850387534327641573\n",
      "0.1\n",
      "1/10\n",
      "1/100\n",
      "time to take product of decimals: 0.552694801997859 s\n",
      "time to take product of floats: 0.11496358399745077 s\n"
     ]
    }
   ],
   "source": [
    "import decimal\n",
    "import fractions\n",
    "import math\n",
    "import timeit\n",
    "\n",
    "decimal.getcontext().prec = 100\n",
    "a = decimal.Decimal(2).sqrt()\n",
    "print(a)\n",
    "a = decimal.Decimal(1)/decimal.Decimal(10)\n",
    "print(a)\n",
    "b = fractions.Fraction(1,10)\n",
    "c = fractions.Fraction(4,40)\n",
    "print(b)\n",
    "print(b*c)\n",
    "\n",
    "a_sqrt_2_dec = decimal.Decimal(2).sqrt()\n",
    "a_sqrt_2 = math.sqrt(2)\n",
    "\n",
    "def test_decimal_product():\n",
    "    a_sqrt_2_dec*a_sqrt_2_dec\n",
    "    return\n",
    "\n",
    "def test_product():\n",
    "    a_sqrt_2*a_sqrt_2\n",
    "    return\n",
    "\n",
    "print('time to take product of decimals:', timeit.timeit('test_decimal_product()', setup=\"from __main__ import test_decimal_product\", number=1000000),'s')\n",
    "print('time to take product of floats:', timeit.timeit('test_product()', setup=\"from __main__ import test_product\", number=1000000),'s')"
   ]
  },
  {
   "cell_type": "code",
   "execution_count": null,
   "metadata": {},
   "outputs": [],
   "source": []
  }
 ],
 "metadata": {
  "kernelspec": {
   "display_name": "Python 3",
   "language": "python",
   "name": "python3"
  },
  "language_info": {
   "codemirror_mode": {
    "name": "ipython",
    "version": 3
   },
   "file_extension": ".py",
   "mimetype": "text/x-python",
   "name": "python",
   "nbconvert_exporter": "python",
   "pygments_lexer": "ipython3",
   "version": "3.6.6"
  }
 },
 "nbformat": 4,
 "nbformat_minor": 2
}
