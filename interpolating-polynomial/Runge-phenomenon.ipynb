{
 "cells": [
  {
   "cell_type": "code",
   "execution_count": null,
   "metadata": {},
   "outputs": [],
   "source": [
    "from functools import reduce\n",
    "import math\n",
    "import matplotlib.pyplot as plt\n",
    "import numpy as np\n",
    "import operator\n",
    "\n",
    "import scipy.interpolate as sci\n",
    "from matplotlib import rc"
   ]
  },
  {
   "cell_type": "code",
   "execution_count": null,
   "metadata": {},
   "outputs": [],
   "source": [
    "def polynomial_with_given_roots(x, roots):\n",
    "    partial = [x - root for root in roots]\n",
    "    return reduce(operator.mul, partial)"
   ]
  },
  {
   "cell_type": "code",
   "execution_count": null,
   "metadata": {},
   "outputs": [],
   "source": [
    "figure_size = (10, 6)\n",
    "a = -1\n",
    "b = 1\n",
    "number_of_plotting_points = 1001\n",
    "x = np.linspace(a, b, number_of_plotting_points)\n",
    "number_of_roots = 21"
   ]
  },
  {
   "cell_type": "code",
   "execution_count": null,
   "metadata": {},
   "outputs": [],
   "source": [
    "def plot_pi(roots):\n",
    "    plt.figure(figsize=figure_size)\n",
    "    plt.style.use('dark_background')\n",
    "    plt.rc('text', usetex=True)\n",
    "\n",
    "    plt.plot(roots, [0]*number_of_roots, 'or', label='roots')\n",
    "    plt.plot(x, polynomial_with_given_roots(x, roots), label='$\\pi_{n+1}$')\n",
    "    plt.xlabel('$x$', fontsize=16)\n",
    "    plt.ylabel('$\\pi_{n+1}$', fontsize=16)\n",
    "    plt.legend()\n",
    "    plt.show()"
   ]
  },
  {
   "cell_type": "markdown",
   "metadata": {},
   "source": [
    "# Equally spaced roots"
   ]
  },
  {
   "cell_type": "code",
   "execution_count": null,
   "metadata": {},
   "outputs": [],
   "source": [
    "equally_spaced_roots = np.linspace(a, b, number_of_roots)\n",
    "plot_pi(equally_spaced_roots)"
   ]
  },
  {
   "cell_type": "markdown",
   "metadata": {},
   "source": [
    "# Runge phenomenon"
   ]
  },
  {
   "cell_type": "code",
   "execution_count": null,
   "metadata": {},
   "outputs": [],
   "source": [
    "def runge(x):\n",
    "    return 1/(1 + x*x)"
   ]
  },
  {
   "cell_type": "code",
   "execution_count": null,
   "metadata": {},
   "outputs": [],
   "source": [
    "def plot_runge(x, interpolator_obj, roots, ylims=None):\n",
    "    plt.figure(figsize=figure_size)\n",
    "    plt.style.use('dark_background')\n",
    "    plt.rc('text', usetex=True)\n",
    "\n",
    "    plt.plot(roots, [runge(root) for root in roots], 'or', label='interpolating points')\n",
    "    plt.plot(x, [runge(i) for i in x], label='Runge')\n",
    "    plt.plot(x, interpolator_obj(x), label='interpolating polynomial')\n",
    "    plt.xlabel('$x$', fontsize=16)\n",
    "    plt.ylabel('Runge', fontsize=16)\n",
    "    if ylims is not None:\n",
    "        plt.ylim(ylims[0], ylims[1])\n",
    "    plt.legend()\n",
    "    plt.show()"
   ]
  },
  {
   "cell_type": "markdown",
   "metadata": {},
   "source": [
    "## Equally spaced"
   ]
  },
  {
   "cell_type": "code",
   "execution_count": null,
   "metadata": {},
   "outputs": [],
   "source": [
    "a = -5\n",
    "b = 5\n",
    "x = np.linspace(a, b, number_of_plotting_points)"
   ]
  },
  {
   "cell_type": "code",
   "execution_count": null,
   "metadata": {},
   "outputs": [],
   "source": [
    "equally_spaced_roots = np.linspace(a, b, number_of_roots)\n",
    "interpolator_obj = sci.BarycentricInterpolator(equally_spaced_roots, runge(equally_spaced_roots))\n",
    "plot_runge(x, interpolator_obj, equally_spaced_roots, [-1, 1.1])"
   ]
  },
  {
   "cell_type": "markdown",
   "metadata": {},
   "source": [
    "## Doubling the number of roots"
   ]
  },
  {
   "cell_type": "code",
   "execution_count": null,
   "metadata": {},
   "outputs": [],
   "source": [
    "equally_spaced_roots = np.linspace(a, b, 2*number_of_roots + 1)\n",
    "interpolator_obj = sci.BarycentricInterpolator(equally_spaced_roots, runge(equally_spaced_roots))\n",
    "plot_runge(x, interpolator_obj, equally_spaced_roots, [-1, 1.1])"
   ]
  },
  {
   "cell_type": "markdown",
   "metadata": {},
   "source": [
    "# Roots of Chebyshev Polynomial "
   ]
  },
  {
   "cell_type": "code",
   "execution_count": null,
   "metadata": {},
   "outputs": [],
   "source": [
    "chebyshev_roots = [0.5*(b - a)*math.cos((j + 0.5)*math.pi/number_of_roots) + 0.5*(b + a) for j in range(number_of_roots)]\n",
    "plot_pi(chebyshev_roots)"
   ]
  },
  {
   "cell_type": "markdown",
   "metadata": {},
   "source": [
    "## Chebyshev roots"
   ]
  },
  {
   "cell_type": "code",
   "execution_count": null,
   "metadata": {},
   "outputs": [],
   "source": [
    "chebyshev_roots = [0.5*(b - a)*math.cos((j + 0.5)*math.pi/number_of_roots) + 0.5*(b + a) for j in range(number_of_roots)]\n",
    "runge_at_roots = [runge(root) for root in chebyshev_roots]\n",
    "interpolator_obj = sci.BarycentricInterpolator(chebyshev_roots, runge_at_roots)\n",
    "plot_runge(x, interpolator_obj, chebyshev_roots)"
   ]
  },
  {
   "cell_type": "markdown",
   "metadata": {},
   "source": [
    "## Doubling the number of points"
   ]
  },
  {
   "cell_type": "code",
   "execution_count": null,
   "metadata": {
    "scrolled": true
   },
   "outputs": [],
   "source": [
    "chebyshev_roots = [0.5*(b - a)*math.cos((j + 0.5)*math.pi/(2*number_of_roots + 1)) + 0.5*(b + a) for j in range(2*number_of_roots + 1)]\n",
    "runge_at_roots = [runge(root) for root in chebyshev_roots]\n",
    "interpolator_obj = sci.BarycentricInterpolator(chebyshev_roots, runge_at_roots)\n",
    "plot_runge(x, interpolator_obj, chebyshev_roots)"
   ]
  },
  {
   "cell_type": "markdown",
   "metadata": {},
   "source": [
    "# Transcendental function"
   ]
  },
  {
   "cell_type": "code",
   "execution_count": null,
   "metadata": {},
   "outputs": [],
   "source": [
    "def transcendental(x):\n",
    "    return math.cos(math.sqrt(50)*math.pi*(x - math.sqrt(3)))"
   ]
  },
  {
   "cell_type": "code",
   "execution_count": null,
   "metadata": {},
   "outputs": [],
   "source": [
    "def plot_transcendental(x, interpolator_obj, roots, ylims=None):\n",
    "    plt.figure(figsize=figure_size)\n",
    "    plt.style.use('dark_background')\n",
    "    plt.rc('text', usetex=True)\n",
    "\n",
    "    plt.plot(roots, [transcendental(root) for root in roots], 'or', label='interpolating points')\n",
    "    plt.plot(x, [transcendental(i) for i in x], label='transcendental function')\n",
    "    plt.plot(x, interpolator_obj(x), label='interpolating polynomial')\n",
    "    if ylims is not None:\n",
    "        plt.ylim(ylims[0], ylims[1])\n",
    "    plt.xlabel('$x$', fontsize=16)\n",
    "    plt.ylabel('transcendental function', fontsize=16)\n",
    "    plt.legend()\n",
    "    plt.show()"
   ]
  },
  {
   "cell_type": "markdown",
   "metadata": {},
   "source": [
    "## Equally spaced"
   ]
  },
  {
   "cell_type": "code",
   "execution_count": null,
   "metadata": {},
   "outputs": [],
   "source": [
    "a = -1\n",
    "b = 1\n",
    "x = np.linspace(a, b, number_of_plotting_points)"
   ]
  },
  {
   "cell_type": "code",
   "execution_count": null,
   "metadata": {},
   "outputs": [],
   "source": [
    "equally_spaced_roots = np.linspace(a, b, number_of_roots)\n",
    "transcendental_at_roots = [transcendental(root) for root in equally_spaced_roots]\n",
    "interpolator_obj = sci.BarycentricInterpolator(equally_spaced_roots, transcendental_at_roots)\n",
    "plot_transcendental(x, interpolator_obj, equally_spaced_roots, [-1.1, 1.1])"
   ]
  },
  {
   "cell_type": "markdown",
   "metadata": {},
   "source": [
    "## Doubling the number of roots"
   ]
  },
  {
   "cell_type": "code",
   "execution_count": null,
   "metadata": {},
   "outputs": [],
   "source": [
    "equally_spaced_roots = np.linspace(a, b, 2*number_of_roots + 1)\n",
    "transcendental_at_roots = [transcendental(root) for root in equally_spaced_roots]\n",
    "interpolator_obj = sci.BarycentricInterpolator(equally_spaced_roots, transcendental_at_roots)\n",
    "plot_transcendental(x, interpolator_obj, equally_spaced_roots)"
   ]
  },
  {
   "cell_type": "markdown",
   "metadata": {},
   "source": [
    "## Chebyshev roots"
   ]
  },
  {
   "cell_type": "code",
   "execution_count": null,
   "metadata": {},
   "outputs": [],
   "source": [
    "chebyshev_roots = [0.5*(b - a)*math.cos((j + 0.5)*math.pi/number_of_roots) + 0.5*(b + a) for j in range(number_of_roots)]\n",
    "transcendental_at_roots = [transcendental(root) for root in chebyshev_roots]\n",
    "interpolator_obj = sci.BarycentricInterpolator(chebyshev_roots, transcendental_at_roots)\n",
    "plot_transcendental(x, interpolator_obj, chebyshev_roots)"
   ]
  },
  {
   "cell_type": "markdown",
   "metadata": {},
   "source": [
    "## Doubling the number of points"
   ]
  },
  {
   "cell_type": "code",
   "execution_count": null,
   "metadata": {
    "scrolled": true
   },
   "outputs": [],
   "source": [
    "double_number_of_points = 2*number_of_roots + 1\n",
    "chebyshev_roots = [0.5*(b - a)*math.cos((j + 0.5)*math.pi/double_number_of_points) + 0.5*(b + a) for j in range(double_number_of_points)]\n",
    "transcendental_at_roots = [transcendental(root) for root in chebyshev_roots]\n",
    "interpolator_obj = sci.BarycentricInterpolator(chebyshev_roots, transcendental_at_roots)\n",
    "plot_transcendental(x, interpolator_obj, chebyshev_roots)"
   ]
  },
  {
   "cell_type": "markdown",
   "metadata": {},
   "source": [
    "# Newton's divided differences"
   ]
  },
  {
   "cell_type": "code",
   "execution_count": null,
   "metadata": {},
   "outputs": [],
   "source": [
    "class divided_differences_recursive:\n",
    "    def __init__(self, X, Y):\n",
    "        self.X_ = X\n",
    "        self.Y_ = Y\n",
    "\n",
    "    def __call__(self, *args):\n",
    "        assert len(args) == len(set(args)), 'There are at least two arguments in {} that are equal'.format(args)\n",
    "        assert all(a > -1 and a < len(self.X_) for a in args), 'An argument in {} is out of range: [0, {}]'.format(args, len(self.X_) - 1)\n",
    "        if len(args) == 1:\n",
    "            return self.Y_[args[0]]\n",
    "        return (self.__call__(*tuple(args[0:-1])) - self.__call__(*tuple(args[1:])))/(self.X_[args[0]] - self.X_[args[-1]])"
   ]
  },
  {
   "cell_type": "code",
   "execution_count": null,
   "metadata": {},
   "outputs": [],
   "source": [
    "def divided_differences_coefficients(x, y):\n",
    "    assert len(x) == len(y), 'Length of inputs ({}) is different than the lenght of outputs ({})'.format(len(x), len(y))\n",
    "    n = len(x)\n",
    "    a = np.zeros(n)\n",
    "    t = np.zeros(n)\n",
    "    for i in range(n):\n",
    "        t[i] = y[i]\n",
    "        for j in range(i - 1, -1, -1):\n",
    "            t[j] = (t[j + 1] - t[j])/(x[i] - x[j])\n",
    "        a[i] = t[0]\n",
    "    return a\n",
    "\n",
    "def horner(z, x, a):\n",
    "    assert len(x) == len(a), 'Length of inputs ({}) is different than the lenght of coefficients ({})'.format(len(x), len(a))\n",
    "    n = len(x)\n",
    "    p = a[-1]\n",
    "    for xi, ai in zip(reversed(x[:-1]), reversed(a[:-1])):\n",
    "        p = p*(z - xi) + ai\n",
    "    return p"
   ]
  },
  {
   "cell_type": "code",
   "execution_count": null,
   "metadata": {},
   "outputs": [],
   "source": [
    "x = [0, 1, 3]\n",
    "y = [1, 3, 2]\n",
    "\n",
    "dd_r = divided_differences_recursive(x, y)\n",
    "dd_d = divided_differences_coefficients(x, y)\n",
    "\n",
    "\n",
    "for i in range(len(x)):\n",
    "    ind = tuple([j for j in range(i + 1)])\n",
    "    ind_print = ','.join([str(i) for i in ind])\n",
    "    print('diagonal: f[{0}] = {1:0.5f}\\nrecursive: f[{0}] = {2:0.5f}\\ndifference: {3}'.format(ind_print, dd_d[i], dd_r(*ind),dd_d[i]-dd_r(*ind)))"
   ]
  },
  {
   "cell_type": "code",
   "execution_count": null,
   "metadata": {},
   "outputs": [],
   "source": [
    "chebyshev_roots = [0.5*(b - a)*math.cos((j + 0.5)*math.pi/number_of_roots) + 0.5*(b + a) for j in range(number_of_roots)]\n",
    "transcendental_at_roots = [transcendental(root) for root in chebyshev_roots]\n",
    "interpolator_obj = sci.BarycentricInterpolator(chebyshev_roots, transcendental_at_roots)\n",
    "dd = divided_differences_coefficients(chebyshev_roots, transcendental_at_roots)\n",
    "plot_transcendental(x, lambda x: horner(x, chebyshev_roots, dd), chebyshev_roots)"
   ]
  },
  {
   "cell_type": "markdown",
   "metadata": {},
   "source": [
    "# Cubic splines"
   ]
  },
  {
   "cell_type": "code",
   "execution_count": null,
   "metadata": {},
   "outputs": [],
   "source": [
    "a = -5\n",
    "b = 5\n",
    "x = np.linspace(a, b, number_of_plotting_points)"
   ]
  },
  {
   "cell_type": "code",
   "execution_count": null,
   "metadata": {},
   "outputs": [],
   "source": [
    "equally_spaced_roots = np.linspace(a, b, number_of_roots)\n",
    "interpolator_obj = sci.interp1d(equally_spaced_roots, runge(equally_spaced_roots), 'cubic')\n",
    "plot_runge(x, interpolator_obj, equally_spaced_roots)"
   ]
  },
  {
   "cell_type": "code",
   "execution_count": null,
   "metadata": {},
   "outputs": [],
   "source": [
    "equally_spaced_roots = np.linspace(a, b, 2*number_of_roots)\n",
    "interpolator_obj = sci.interp1d(equally_spaced_roots, runge(equally_spaced_roots), 'cubic')\n",
    "plot_runge(x, interpolator_obj, equally_spaced_roots)"
   ]
  },
  {
   "cell_type": "code",
   "execution_count": null,
   "metadata": {},
   "outputs": [],
   "source": [
    "a = -1\n",
    "b = 1\n",
    "x = np.linspace(a, b, number_of_plotting_points)"
   ]
  },
  {
   "cell_type": "code",
   "execution_count": null,
   "metadata": {},
   "outputs": [],
   "source": [
    "equally_spaced_roots = np.linspace(a, b, number_of_roots)\n",
    "transcendental_at_roots = [transcendental(root) for root in equally_spaced_roots]\n",
    "interpolator_obj = sci.interp1d(equally_spaced_roots, transcendental_at_roots, 'cubic')\n",
    "plot_transcendental(x, interpolator_obj, equally_spaced_roots)"
   ]
  },
  {
   "cell_type": "code",
   "execution_count": null,
   "metadata": {},
   "outputs": [],
   "source": [
    "equally_spaced_roots = np.linspace(a, b, 2*number_of_roots + 1)\n",
    "transcendental_at_roots = [transcendental(root) for root in equally_spaced_roots]\n",
    "interpolator_obj = sci.interp1d(equally_spaced_roots, transcendental_at_roots, 'cubic')\n",
    "plot_transcendental(x, interpolator_obj, equally_spaced_roots)"
   ]
  },
  {
   "cell_type": "code",
   "execution_count": null,
   "metadata": {},
   "outputs": [],
   "source": []
  }
 ],
 "metadata": {
  "kernelspec": {
   "display_name": "Python 3",
   "language": "python",
   "name": "python3"
  },
  "language_info": {
   "codemirror_mode": {
    "name": "ipython",
    "version": 3
   },
   "file_extension": ".py",
   "mimetype": "text/x-python",
   "name": "python",
   "nbconvert_exporter": "python",
   "pygments_lexer": "ipython3",
   "version": "3.7.1"
  }
 },
 "nbformat": 4,
 "nbformat_minor": 2
}
