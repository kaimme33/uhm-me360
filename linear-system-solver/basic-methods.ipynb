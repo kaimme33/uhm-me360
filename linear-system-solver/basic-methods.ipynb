{
 "cells": [
  {
   "cell_type": "code",
   "execution_count": 1,
   "metadata": {},
   "outputs": [],
   "source": [
    "from __future__ import division\n",
    "from operator import itemgetter\n",
    "from functools import reduce\n",
    "from copy import deepcopy\n",
    "from scipy import linalg\n",
    "from scipy import optimize\n",
    "import sympy\n",
    "sympy.init_printing()\n",
    "import numpy as np\n",
    "import matplotlib.pyplot as plt\n",
    "import matplotlib as mpl\n",
    "mpl.rcParams[\"font.family\"] = \"serif\"\n",
    "mpl.rcParams[\"font.size\"] = \"12\"\n",
    "from IPython.display import display, Math\n",
    "import time"
   ]
  },
  {
   "cell_type": "code",
   "execution_count": 2,
   "metadata": {},
   "outputs": [],
   "source": [
    "def bmatrix(a):\n",
    "    \"\"\"Returns a LaTeX bmatrix\n",
    "\n",
    "    :a: numpy array\n",
    "    :returns: LaTeX bmatrix as a string\n",
    "    \"\"\"\n",
    "    if len(a.shape) > 2:\n",
    "        raise ValueError('bmatrix can at most display two dimensions')\n",
    "    lines = str(a).replace('[', '').replace(']', '').splitlines()\n",
    "    rv = [r'\\begin{bmatrix}']\n",
    "    rv += ['  ' + ' & '.join(l.split()) + r'\\\\' for l in lines]\n",
    "    rv +=  [r'\\end{bmatrix}']\n",
    "    return '\\n'.join(rv)"
   ]
  },
  {
   "cell_type": "markdown",
   "metadata": {},
   "source": [
    "## Linear Algebra - Linear Equation Systems"
   ]
  },
  {
   "cell_type": "markdown",
   "metadata": {},
   "source": [
    "$$\n",
    "a_{11} x_1 + a_{12} x_2 = b_1\n",
    "$$\n",
    "\n",
    "$$\n",
    "a_{21} x_1 + a_{22} x_2 = b_2\n",
    "$$"
   ]
  },
  {
   "cell_type": "code",
   "execution_count": 3,
   "metadata": {},
   "outputs": [
    {
     "data": {
      "image/png": "[encoded data removed]",
      "text/plain": [
       "<Figure size 720x720 with 1 Axes>"
      ]
     },
     "metadata": {},
     "output_type": "display_data"
    }
   ],
   "source": [
    "plt.style.use('dark_background')\n",
    "fig, ax = plt.subplots(figsize=(10, 10))\n",
    "\n",
    "a1 = [2, 3]\n",
    "b1 = 4\n",
    "a2 = [2, 3.1]\n",
    "b2 = 3\n",
    "\n",
    "A = np.array([a1, a2])\n",
    "b = np.array([b1, b2])\n",
    "x = linalg.solve(A, b)\n",
    "\n",
    "x1 = np.linspace(x[0] - 2, x[0] + 2, 100)\n",
    "\n",
    "x2_1 = (b1 - a1[0] * x1)/a1[1]\n",
    "x2_2 = (b2 - a2[0] * x1)/a2[1]\n",
    "\n",
    "ax.plot(x1, x2_1, 'r', lw=2, label=r\"${}x_1+{}x_2={}$\".format(a1[0], a1[1], b1))\n",
    "ax.plot(x1, x2_2, 'b', lw=2, label=r\"${}x_1+{}x_2={}$\".format(a2[0], a2[1], b2))\n",
    "\n",
    "ax.plot(x[0], x[1], 'wo', lw=2)\n",
    "ax.annotate(\"The intersection point of\\nthe two lines is the solution\\nto the equation system\",\n",
    "            xy=(x[0], x[1]), xycoords='data',\n",
    "            xytext=(-120, -75), textcoords='offset points', \n",
    "            arrowprops=dict(arrowstyle=\"->\", connectionstyle=\"arc3, rad=-.3\"))\n",
    "\n",
    "ax.set_xlabel(r\"$x_1$\", fontsize=18)\n",
    "ax.set_ylabel(r\"$x_2$\", fontsize=18)\n",
    "ax.set_aspect(1)\n",
    "ax.legend();\n",
    "\n",
    "fig.tight_layout()"
   ]
  },
  {
   "cell_type": "markdown",
   "metadata": {},
   "source": [
    "### Gaussian elimination"
   ]
  },
  {
   "cell_type": "code",
   "execution_count": 4,
   "metadata": {},
   "outputs": [],
   "source": [
    "def gaussian_elimination(A, b, display_steps=False):\n",
    "    n = len(A)\n",
    "    \n",
    "    A_b = np.append(A, b, 1)\n",
    "    \n",
    "    if display_steps:\n",
    "        display(Math(r'\\text{Input:}'))\n",
    "        display(Math('(A,b) = ' + bmatrix(A_b)))\n",
    "\n",
    "    for i in range(n - 1):\n",
    "        # Search for maximum in column 'i'\n",
    "        maxEl = abs(A_b[i][i])\n",
    "        maxRow = i\n",
    "        for k in range(i+1, n):\n",
    "            if abs(A_b[k][i]) > maxEl:\n",
    "                maxEl = abs(A_b[k][i])\n",
    "                maxRow = k\n",
    "\n",
    "        if maxRow != i:\n",
    "            # Swap row with maximum pivot with current row\n",
    "            for k in range(i, n+1):\n",
    "                tmp = A_b[maxRow][k]\n",
    "                A_b[maxRow][k] = A_b[i][k]\n",
    "                A_b[i][k] = tmp\n",
    "        \n",
    "        if display_steps:\n",
    "            a_b_str = '(\\\\bar{{A}}^{{({})}},\\\\bar{{b}}^{{({})}})'.format(i,i)\n",
    "            if i != maxRow:\n",
    "                display(Math('\\\\text{{Step {}: Pivot (swap rows {} and {})}}'.format(i, i, maxRow)))\n",
    "            else:\n",
    "                display(Math('\\\\text{{Step {}: Pivot (no swap needed as row {} has maximum pivot)}}'.format(i, i)))\n",
    "            display(Math(a_b_str + ' = ' + bmatrix(A_b)))\n",
    "\n",
    "        # Make all rows below 'i' equal to 0 in current column\n",
    "        for k in range(i + 1, n):\n",
    "            c = -A_b[k][i]/A_b[i][i]\n",
    "            for j in range(i, n+1):\n",
    "                if i == j:\n",
    "                    A_b[k][j] = 0\n",
    "                else:\n",
    "                    A_b[k][j] += c * A_b[i][j]\n",
    "        if display_steps:\n",
    "            a_b_str = '(A^{{({})}},b^{{({})}})'.format(i+1,i+1)\n",
    "            display(Math('\\\\text{{Step {}: Eliminate}}'.format(i)))\n",
    "            display(Math(a_b_str + ' = ' + bmatrix(A_b)))\n",
    "                    \n",
    "\n",
    "    # Solve equation Ax=b for the transformed upper triangular matrix U\n",
    "    x = [0 for i in range(n)]\n",
    "    for i in range(n - 1, -1, -1):\n",
    "        x[i] = A_b[i][n]/A_b[i][i]\n",
    "        for k in range(i-1, -1, -1):\n",
    "            A_b[k][n] -= A_b[k][i] * x[i]\n",
    "    return x"
   ]
  },
  {
   "cell_type": "code",
   "execution_count": 5,
   "metadata": {},
   "outputs": [],
   "source": [
    "A = np.array([[1., 1., 1.], [1.,2.,3.],[1.,3.,6.]])\n",
    "b = np.array([[1.],[2.],[3.]])"
   ]
  },
  {
   "cell_type": "code",
   "execution_count": 6,
   "metadata": {},
   "outputs": [
    {
     "data": {
      "text/latex": [
       "$\\displaystyle \\text{Input:}$"
      ],
      "text/plain": [
       "<IPython.core.display.Math object>"
      ]
     },
     "metadata": {},
     "output_type": "display_data"
    },
    {
     "data": {
      "text/latex": [
       "$\\displaystyle (A,b) = \\begin{bmatrix}\n",
       "  1. & 1. & 1. & 1.\\\\\n",
       "  1. & 2. & 3. & 2.\\\\\n",
       "  1. & 3. & 6. & 3.\\\\\n",
       "\\end{bmatrix}$"
      ],
      "text/plain": [
       "<IPython.core.display.Math object>"
      ]
     },
     "metadata": {},
     "output_type": "display_data"
    },
    {
     "data": {
      "text/latex": [
       "$\\displaystyle \\text{Step 0: Pivot (no swap needed as row 0 has maximum pivot)}$"
      ],
      "text/plain": [
       "<IPython.core.display.Math object>"
      ]
     },
     "metadata": {},
     "output_type": "display_data"
    },
    {
     "data": {
      "text/latex": [
       "$\\displaystyle (\\bar{A}^{(0)},\\bar{b}^{(0)}) = \\begin{bmatrix}\n",
       "  1. & 1. & 1. & 1.\\\\\n",
       "  1. & 2. & 3. & 2.\\\\\n",
       "  1. & 3. & 6. & 3.\\\\\n",
       "\\end{bmatrix}$"
      ],
      "text/plain": [
       "<IPython.core.display.Math object>"
      ]
     },
     "metadata": {},
     "output_type": "display_data"
    },
    {
     "data": {
      "text/latex": [
       "$\\displaystyle \\text{Step 0: Eliminate}$"
      ],
      "text/plain": [
       "<IPython.core.display.Math object>"
      ]
     },
     "metadata": {},
     "output_type": "display_data"
    },
    {
     "data": {
      "text/latex": [
       "$\\displaystyle (A^{(1)},b^{(1)}) = \\begin{bmatrix}\n",
       "  1. & 1. & 1. & 1.\\\\\n",
       "  0. & 1. & 2. & 1.\\\\\n",
       "  0. & 2. & 5. & 2.\\\\\n",
       "\\end{bmatrix}$"
      ],
      "text/plain": [
       "<IPython.core.display.Math object>"
      ]
     },
     "metadata": {},
     "output_type": "display_data"
    },
    {
     "data": {
      "text/latex": [
       "$\\displaystyle \\text{Step 1: Pivot (swap rows 1 and 2)}$"
      ],
      "text/plain": [
       "<IPython.core.display.Math object>"
      ]
     },
     "metadata": {},
     "output_type": "display_data"
    },
    {
     "data": {
      "text/latex": [
       "$\\displaystyle (\\bar{A}^{(1)},\\bar{b}^{(1)}) = \\begin{bmatrix}\n",
       "  1. & 1. & 1. & 1.\\\\\n",
       "  0. & 2. & 5. & 2.\\\\\n",
       "  0. & 1. & 2. & 1.\\\\\n",
       "\\end{bmatrix}$"
      ],
      "text/plain": [
       "<IPython.core.display.Math object>"
      ]
     },
     "metadata": {},
     "output_type": "display_data"
    },
    {
     "data": {
      "text/latex": [
       "$\\displaystyle \\text{Step 1: Eliminate}$"
      ],
      "text/plain": [
       "<IPython.core.display.Math object>"
      ]
     },
     "metadata": {},
     "output_type": "display_data"
    },
    {
     "data": {
      "text/latex": [
       "$\\displaystyle (A^{(2)},b^{(2)}) = \\begin{bmatrix}\n",
       "  1. & 1. & 1. & 1.\\\\\n",
       "  0. & 2. & 5. & 2.\\\\\n",
       "  0. & 0. & -0.5 & 0.\\\\\n",
       "\\end{bmatrix}$"
      ],
      "text/plain": [
       "<IPython.core.display.Math object>"
      ]
     },
     "metadata": {},
     "output_type": "display_data"
    },
    {
     "name": "stdout",
     "output_type": "stream",
     "text": [
      "Computed solution x =  [0.0, 1.0, -0.0]\n"
     ]
    }
   ],
   "source": [
    "x = gaussian_elimination(A, b, display_steps=True)\n",
    "print('Computed solution x = ', x)"
   ]
  },
  {
   "cell_type": "code",
   "execution_count": 7,
   "metadata": {},
   "outputs": [],
   "source": [
    "n = 5\n",
    "A = np.random.rand(n,n)\n",
    "x_expected = np.random.rand(n,1)\n",
    "b = np.matmul(A, x_expected)"
   ]
  },
  {
   "cell_type": "code",
   "execution_count": 8,
   "metadata": {},
   "outputs": [
    {
     "data": {
      "text/latex": [
       "$\\displaystyle \\text{Input:}$"
      ],
      "text/plain": [
       "<IPython.core.display.Math object>"
      ]
     },
     "metadata": {},
     "output_type": "display_data"
    },
    {
     "data": {
      "text/latex": [
       "$\\displaystyle (A,b) = \\begin{bmatrix}\n",
       "  0.10300729 & 0.48853111 & 0.07373867 & 0.95521243 & 0.85931316 & 0.90224478\\\\\n",
       "  0.92388992 & 0.39130215 & 0.20833153 & 0.45864382 & 0.66644042 & 1.38516429\\\\\n",
       "  0.11879069 & 0.48326503 & 0.60031216 & 0.95482401 & 0.74933651 & 1.24047937\\\\\n",
       "  0.83193332 & 0.74631584 & 0.67084464 & 0.38415763 & 0.84271387 & 1.78809135\\\\\n",
       "  0.99595949 & 0.23021212 & 0.56937664 & 0.17037633 & 0.98123862 & 1.48309575\\\\\n",
       "\\end{bmatrix}$"
      ],
      "text/plain": [
       "<IPython.core.display.Math object>"
      ]
     },
     "metadata": {},
     "output_type": "display_data"
    },
    {
     "data": {
      "text/latex": [
       "$\\displaystyle \\text{Step 0: Pivot (swap rows 0 and 4)}$"
      ],
      "text/plain": [
       "<IPython.core.display.Math object>"
      ]
     },
     "metadata": {},
     "output_type": "display_data"
    },
    {
     "data": {
      "text/latex": [
       "$\\displaystyle (\\bar{A}^{(0)},\\bar{b}^{(0)}) = \\begin{bmatrix}\n",
       "  0.99595949 & 0.23021212 & 0.56937664 & 0.17037633 & 0.98123862 & 1.48309575\\\\\n",
       "  0.92388992 & 0.39130215 & 0.20833153 & 0.45864382 & 0.66644042 & 1.38516429\\\\\n",
       "  0.11879069 & 0.48326503 & 0.60031216 & 0.95482401 & 0.74933651 & 1.24047937\\\\\n",
       "  0.83193332 & 0.74631584 & 0.67084464 & 0.38415763 & 0.84271387 & 1.78809135\\\\\n",
       "  0.10300729 & 0.48853111 & 0.07373867 & 0.95521243 & 0.85931316 & 0.90224478\\\\\n",
       "\\end{bmatrix}$"
      ],
      "text/plain": [
       "<IPython.core.display.Math object>"
      ]
     },
     "metadata": {},
     "output_type": "display_data"
    },
    {
     "data": {
      "text/latex": [
       "$\\displaystyle \\text{Step 0: Eliminate}$"
      ],
      "text/plain": [
       "<IPython.core.display.Math object>"
      ]
     },
     "metadata": {},
     "output_type": "display_data"
    },
    {
     "data": {
      "text/latex": [
       "$\\displaystyle (A^{(1)},b^{(1)}) = \\begin{bmatrix}\n",
       "  0.99595949 & 0.23021212 & 0.56937664 & 0.17037633 & 0.98123862 & 1.48309575\\\\\n",
       "  0. & 0.17774862 & -0.31984391 & 0.30059625 & -0.24379386 & 0.00938824\\\\\n",
       "  0. & 0.45580703 & 0.53240112 & 0.93450278 & 0.63230162 & 1.06358667\\\\\n",
       "  0. & 0.55401772 & 0.19523955 & 0.24184085 & 0.02307702 & 0.54924903\\\\\n",
       "  0. & 0.46472138 & 0.01485078 & 0.93759123 & 0.75782838 & 0.74885534\\\\\n",
       "\\end{bmatrix}$"
      ],
      "text/plain": [
       "<IPython.core.display.Math object>"
      ]
     },
     "metadata": {},
     "output_type": "display_data"
    },
    {
     "data": {
      "text/latex": [
       "$\\displaystyle \\text{Step 1: Pivot (swap rows 1 and 3)}$"
      ],
      "text/plain": [
       "<IPython.core.display.Math object>"
      ]
     },
     "metadata": {},
     "output_type": "display_data"
    },
    {
     "data": {
      "text/latex": [
       "$\\displaystyle (\\bar{A}^{(1)},\\bar{b}^{(1)}) = \\begin{bmatrix}\n",
       "  0.99595949 & 0.23021212 & 0.56937664 & 0.17037633 & 0.98123862 & 1.48309575\\\\\n",
       "  0. & 0.55401772 & 0.19523955 & 0.24184085 & 0.02307702 & 0.54924903\\\\\n",
       "  0. & 0.45580703 & 0.53240112 & 0.93450278 & 0.63230162 & 1.06358667\\\\\n",
       "  0. & 0.17774862 & -0.31984391 & 0.30059625 & -0.24379386 & 0.00938824\\\\\n",
       "  0. & 0.46472138 & 0.01485078 & 0.93759123 & 0.75782838 & 0.74885534\\\\\n",
       "\\end{bmatrix}$"
      ],
      "text/plain": [
       "<IPython.core.display.Math object>"
      ]
     },
     "metadata": {},
     "output_type": "display_data"
    },
    {
     "data": {
      "text/latex": [
       "$\\displaystyle \\text{Step 1: Eliminate}$"
      ],
      "text/plain": [
       "<IPython.core.display.Math object>"
      ]
     },
     "metadata": {},
     "output_type": "display_data"
    },
    {
     "data": {
      "text/latex": [
       "$\\displaystyle (A^{(2)},b^{(2)}) = \\begin{bmatrix}\n",
       "  0.99595949 & 0.23021212 & 0.56937664 & 0.17037633 & 0.98123862 & 1.48309575\\\\\n",
       "  0. & 0.55401772 & 0.19523955 & 0.24184085 & 0.02307702 & 0.54924903\\\\\n",
       "  0. & 0. & 0.37177167 & 0.73553304 & 0.61331546 & 0.61170299\\\\\n",
       "  0. & 0. & -0.38248371 & 0.22300509 & -0.25119779 & -0.16683042\\\\\n",
       "  0. & 0. & -0.14892014 & 0.73473019 & 0.7384709 & 0.28813403\\\\\n",
       "\\end{bmatrix}$"
      ],
      "text/plain": [
       "<IPython.core.display.Math object>"
      ]
     },
     "metadata": {},
     "output_type": "display_data"
    },
    {
     "data": {
      "text/latex": [
       "$\\displaystyle \\text{Step 2: Pivot (swap rows 2 and 3)}$"
      ],
      "text/plain": [
       "<IPython.core.display.Math object>"
      ]
     },
     "metadata": {},
     "output_type": "display_data"
    },
    {
     "data": {
      "text/latex": [
       "$\\displaystyle (\\bar{A}^{(2)},\\bar{b}^{(2)}) = \\begin{bmatrix}\n",
       "  0.99595949 & 0.23021212 & 0.56937664 & 0.17037633 & 0.98123862 & 1.48309575\\\\\n",
       "  0. & 0.55401772 & 0.19523955 & 0.24184085 & 0.02307702 & 0.54924903\\\\\n",
       "  0. & 0. & -0.38248371 & 0.22300509 & -0.25119779 & -0.16683042\\\\\n",
       "  0. & 0. & 0.37177167 & 0.73553304 & 0.61331546 & 0.61170299\\\\\n",
       "  0. & 0. & -0.14892014 & 0.73473019 & 0.7384709 & 0.28813403\\\\\n",
       "\\end{bmatrix}$"
      ],
      "text/plain": [
       "<IPython.core.display.Math object>"
      ]
     },
     "metadata": {},
     "output_type": "display_data"
    },
    {
     "data": {
      "text/latex": [
       "$\\displaystyle \\text{Step 2: Eliminate}$"
      ],
      "text/plain": [
       "<IPython.core.display.Math object>"
      ]
     },
     "metadata": {},
     "output_type": "display_data"
    },
    {
     "data": {
      "text/latex": [
       "$\\displaystyle (A^{(3)},b^{(3)}) = \\begin{bmatrix}\n",
       "  0.99595949 & 0.23021212 & 0.56937664 & 0.17037633 & 0.98123862 & 1.48309575\\\\\n",
       "  0. & 0.55401772 & 0.19523955 & 0.24184085 & 0.02307702 & 0.54924903\\\\\n",
       "  0. & 0. & -0.38248371 & 0.22300509 & -0.25119779 & -0.16683042\\\\\n",
       "  0. & 0. & 0. & 0.95229254 & 0.36915284 & 0.44954491\\\\\n",
       "  0. & 0. & 0. & 0.6479031 & 0.83627483 & 0.3530895\\\\\n",
       "\\end{bmatrix}$"
      ],
      "text/plain": [
       "<IPython.core.display.Math object>"
      ]
     },
     "metadata": {},
     "output_type": "display_data"
    },
    {
     "data": {
      "text/latex": [
       "$\\displaystyle \\text{Step 3: Pivot (no swap needed as row 3 has maximum pivot)}$"
      ],
      "text/plain": [
       "<IPython.core.display.Math object>"
      ]
     },
     "metadata": {},
     "output_type": "display_data"
    },
    {
     "data": {
      "text/latex": [
       "$\\displaystyle (\\bar{A}^{(3)},\\bar{b}^{(3)}) = \\begin{bmatrix}\n",
       "  0.99595949 & 0.23021212 & 0.56937664 & 0.17037633 & 0.98123862 & 1.48309575\\\\\n",
       "  0. & 0.55401772 & 0.19523955 & 0.24184085 & 0.02307702 & 0.54924903\\\\\n",
       "  0. & 0. & -0.38248371 & 0.22300509 & -0.25119779 & -0.16683042\\\\\n",
       "  0. & 0. & 0. & 0.95229254 & 0.36915284 & 0.44954491\\\\\n",
       "  0. & 0. & 0. & 0.6479031 & 0.83627483 & 0.3530895\\\\\n",
       "\\end{bmatrix}$"
      ],
      "text/plain": [
       "<IPython.core.display.Math object>"
      ]
     },
     "metadata": {},
     "output_type": "display_data"
    },
    {
     "data": {
      "text/latex": [
       "$\\displaystyle \\text{Step 3: Eliminate}$"
      ],
      "text/plain": [
       "<IPython.core.display.Math object>"
      ]
     },
     "metadata": {},
     "output_type": "display_data"
    },
    {
     "data": {
      "text/latex": [
       "$\\displaystyle (A^{(4)},b^{(4)}) = \\begin{bmatrix}\n",
       "  0.99595949 & 0.23021212 & 0.56937664 & 0.17037633 & 0.98123862 & 1.48309575\\\\\n",
       "  0. & 0.55401772 & 0.19523955 & 0.24184085 & 0.02307702 & 0.54924903\\\\\n",
       "  0. & 0. & -0.38248371 & 0.22300509 & -0.25119779 & -0.16683042\\\\\n",
       "  0. & 0. & 0. & 0.95229254 & 0.36915284 & 0.44954491\\\\\n",
       "  0. & 0. & 0. & 0. & 0.58511748 & 0.04723649\\\\\n",
       "\\end{bmatrix}$"
      ],
      "text/plain": [
       "<IPython.core.display.Math object>"
      ]
     },
     "metadata": {},
     "output_type": "display_data"
    },
    {
     "name": "stdout",
     "output_type": "stream",
     "text": [
      "Condition number of A:  14.378538420281595\n",
      "Expected solution x =  [0.83645063 0.5700317  0.64014617 0.44077131 0.08072993]\n",
      "Computed solution x =  [0.8364506270577151, 0.5700317002558187, 0.6401461736390167, 0.44077130882563037, 0.08072992934286238]\n",
      "Error ϵ = 3.9069814000780865e-14 %\n",
      "Elapsed time: 0.02586817741394043 s\n"
     ]
    }
   ],
   "source": [
    "start = time.time()\n",
    "x = gaussian_elimination(A, b, display_steps=True)\n",
    "end = time.time()\n",
    "print('Condition number of A: ', np.linalg.cond(A))\n",
    "print('Expected solution x = ', x_expected.flatten())\n",
    "print('Computed solution x = ', x)\n",
    "print('Error ϵ = {} %'.format(np.linalg.norm(x_expected.flatten() - x)/np.linalg.norm(x_expected)*100))\n",
    "print('Elapsed time: {} s'.format(end - start))"
   ]
  },
  {
   "cell_type": "markdown",
   "metadata": {},
   "source": [
    "### LU decomposition"
   ]
  },
  {
   "cell_type": "code",
   "execution_count": 9,
   "metadata": {},
   "outputs": [
    {
     "name": "stdout",
     "output_type": "stream",
     "text": [
      "Time to solve 5 2x2 problems using the gaussian elimination: 0.0005970001220703125 s\n",
      "Time to solve 5 2x2 problems using the LU decomposition: 0.0008304119110107422 s\n",
      "The LU decomposition is 0.7189204708584553 times faster than the gaussian elimination\n",
      "Time to solve 5 4x4 problems using the gaussian elimination: 0.000461578369140625 s\n",
      "Time to solve 5 4x4 problems using the LU decomposition: 0.0003859996795654297 s\n",
      "The LU decomposition is 1.1957998764669548 times faster than the gaussian elimination\n",
      "Time to solve 5 8x8 problems using the gaussian elimination: 0.0020813941955566406 s\n",
      "Time to solve 5 8x8 problems using the LU decomposition: 0.00044798851013183594 s\n",
      "The LU decomposition is 4.64608834486429 times faster than the gaussian elimination\n",
      "Time to solve 5 16x16 problems using the gaussian elimination: 0.011731147766113281 s\n",
      "Time to solve 5 16x16 problems using the LU decomposition: 0.0008027553558349609 s\n",
      "The LU decomposition is 14.613602613602614 times faster than the gaussian elimination\n",
      "Time to solve 5 32x32 problems using the gaussian elimination: 0.08619809150695801 s\n",
      "Time to solve 5 32x32 problems using the LU decomposition: 0.003101348876953125 s\n",
      "The LU decomposition is 27.793742312423124 times faster than the gaussian elimination\n",
      "Time to solve 5 64x64 problems using the gaussian elimination: 0.3528876304626465 s\n",
      "Time to solve 5 64x64 problems using the LU decomposition: 0.0019447803497314453 s\n",
      "The LU decomposition is 181.4537207306608 times faster than the gaussian elimination\n",
      "Time to solve 5 128x128 problems using the gaussian elimination: 2.6797358989715576 s\n",
      "Time to solve 5 128x128 problems using the LU decomposition: 0.004252433776855469 s\n",
      "The LU decomposition is 630.1652276295133 times faster than the gaussian elimination\n",
      "Time to solve 5 256x256 problems using the gaussian elimination: 19.024949550628662 s\n",
      "Time to solve 5 256x256 problems using the LU decomposition: 0.013404130935668945 s\n",
      "The LU decomposition is 1419.3348037210294 times faster than the gaussian elimination\n"
     ]
    }
   ],
   "source": [
    "tol = 1e-12\n",
    "number_of_different_bs = 5\n",
    "data = []\n",
    "for i in range(1,9):\n",
    "    n = 2**i\n",
    "    A0 = np.random.rand(n,n)\n",
    "    for i in range(n):\n",
    "        A0[i][i] = reduce((lambda x, y: x + y), [abs(A0[i][j]) for j in range(n)])\n",
    "    start = time.time()\n",
    "    P0, L0, U0 = linalg.lu(A0)\n",
    "    end = time.time()\n",
    "    lu_time = end - start\n",
    "    gaussian_time = 0\n",
    "    for _ in range(number_of_different_bs):\n",
    "        x_expected0 = np.random.rand(n, 1)\n",
    "        b0 = np.matmul(A0, x_expected0)\n",
    "        start = time.time()\n",
    "        x0_gaussian = gaussian_elimination(A0, b0, display_steps=False)\n",
    "        end = time.time()\n",
    "        gaussian_time += end - start\n",
    "        start = time.time()\n",
    "        y0 = np.linalg.solve(L0, np.matmul(P0,b0))\n",
    "        x0_lu = np.linalg.solve(U0, y0)\n",
    "        end = time.time()\n",
    "        lu_time += end - start\n",
    "        assert np.linalg.norm(np.transpose([x0_gaussian]) - x_expected0) < tol, 'Error in the gaussian computation: error = {}'.format(np.linalg.norm(x0_gaussian - x0_lu))\n",
    "        assert np.linalg.norm(x0_lu - x_expected0) < tol, 'Error in the lu computation: error = {}'.format(np.linalg.norm(x0_gaussian - x0_lu))\n",
    "    print(r'Time to solve {0} {1}x{1} problems using the gaussian elimination: {2} s'.format(number_of_different_bs, n, gaussian_time))\n",
    "    print(r'Time to solve {0} {1}x{1} problems using the LU decomposition: {2} s'.format(number_of_different_bs, n, lu_time))\n",
    "    print('The LU decomposition is {} times faster than the gaussian elimination'.format(gaussian_time/lu_time))\n",
    "    data.append([n, gaussian_time, lu_time])\n",
    "data = np.array(data)"
   ]
  },
  {
   "cell_type": "code",
   "execution_count": 10,
   "metadata": {},
   "outputs": [
    {
     "data": {
      "image/png": "[encoded data removed]",
      "text/plain": [
       "<Figure size 720x720 with 1 Axes>"
      ]
     },
     "metadata": {},
     "output_type": "display_data"
    }
   ],
   "source": [
    "plt.figure(figsize=(10,10))\n",
    "plt.loglog(data[:,0], data[:,2], label='LU')\n",
    "plt.loglog(data[:,0], data[:,1], '--', label='Gaussian elimination')\n",
    "plt.xlabel('n')\n",
    "plt.ylabel('t [s]')\n",
    "plt.legend()\n",
    "plt.show()"
   ]
  },
  {
   "cell_type": "markdown",
   "metadata": {},
   "source": [
    "### Successive Over Relaxation (SOR)"
   ]
  },
  {
   "cell_type": "code",
   "execution_count": 11,
   "metadata": {},
   "outputs": [],
   "source": [
    "def sor(A, b, ω=1, tol=1e-6, display_steps=False):\n",
    "    N = len(b)\n",
    "\n",
    "    B = np.zeros((N,N))\n",
    "    for i in range(N):\n",
    "        B[i][i] = A[i][i]/ω\n",
    "        for j in range(i):\n",
    "            B[i][j] = A[i][j]\n",
    "    \n",
    "    H = np.identity(N) - np.matmul(np.linalg.inv(B),A)\n",
    "    \n",
    "    ρH = max(abs(np.linalg.eigvals(H)))\n",
    "    if display_steps:\n",
    "        display(Math('\\\\text{{Spectral radius of }}I - B^{{-1}}A: {}'.format(ρH)))\n",
    "    \n",
    "    if ρH > 1:\n",
    "        print(\"Doesn't converge.\")\n",
    "        return\n",
    "    \n",
    "    print_freq = 10\n",
    "    \n",
    "    max_iterations = 1000\n",
    "    \n",
    "    x = np.zeros(N)\n",
    "    xprev = deepcopy(x)\n",
    "    for i in range(max_iterations):\n",
    "        for j in range(N):\n",
    "            summL = 0\n",
    "            summU = 0\n",
    "            if j > 0:\n",
    "                summL = reduce(lambda x,y: x + y, [A[j][k]*x[k] for k in range(j)])\n",
    "            if j < N - 1:\n",
    "                summU = reduce(lambda x,y: x + y, [A[j][k]*xprev[k] for k in range(j + 1, N)])\n",
    "            x[j] = (b[j] - summL - summU)/A[j][j]\n",
    "        x = np.array([(1 - ω)*xprev[i] + ω*x[i] for i in range(N)])\n",
    "        diffnorm = np.linalg.norm(x - xprev, 1)\n",
    "        oldnorm = np.linalg.norm(xprev, 1)\n",
    "        if oldnorm == 0:\n",
    "            oldnorm = 1\n",
    "        norm = diffnorm / oldnorm\n",
    "        if display_steps:\n",
    "            if i % print_freq == 0:\n",
    "                a_b_str = 'x^{{({})}}'.format(i+1)\n",
    "                display(Math(a_b_str + ' = ' + bmatrix(x)))\n",
    "        \n",
    "        if (norm < tol) and i != 0:\n",
    "            if display_steps:\n",
    "                a_b_str = 'x^{{({})}}'.format(i+1)\n",
    "                display(Math(r'\\text{Sequence satisfies tolerance at }' + a_b_str + ' = ' + bmatrix(x)))\n",
    "                print('Took', i + 1, 'iterations.')\n",
    "            return x\n",
    "        xprev = deepcopy(x)\n",
    "    "
   ]
  },
  {
   "cell_type": "code",
   "execution_count": 12,
   "metadata": {},
   "outputs": [
    {
     "name": "stdout",
     "output_type": "stream",
     "text": [
      "Condition number of A:  14.378538420281595\n",
      "Doesn't converge.\n"
     ]
    },
    {
     "data": {
      "text/latex": [
       "$\\displaystyle \\text{Novel A } = \\begin{bmatrix}\n",
       "  2.47980266 & 0.48853111 & 0.07373867 & 0.95521243 & 0.85931316\\\\\n",
       "  0.92388992 & 2.64860784 & 0.20833153 & 0.45864382 & 0.66644042\\\\\n",
       "  0.11879069 & 0.48326503 & 2.90652839 & 0.95482401 & 0.74933651\\\\\n",
       "  0.83193332 & 0.74631584 & 0.67084464 & 3.4759653 & 0.84271387\\\\\n",
       "  0.99595949 & 0.23021212 & 0.56937664 & 0.17037633 & 2.94716322\\\\\n",
       "\\end{bmatrix}$"
      ],
      "text/plain": [
       "<IPython.core.display.Math object>"
      ]
     },
     "metadata": {},
     "output_type": "display_data"
    },
    {
     "name": "stdout",
     "output_type": "stream",
     "text": [
      "\n",
      "Condition number of A:  3.7535369204235574\n"
     ]
    },
    {
     "data": {
      "text/latex": [
       "$\\displaystyle \\text{Spectral radius of }I - B^{-1}A: 0.24377131733962745$"
      ],
      "text/plain": [
       "<IPython.core.display.Math object>"
      ]
     },
     "metadata": {},
     "output_type": "display_data"
    },
    {
     "data": {
      "text/latex": [
       "$\\displaystyle x^{(1)} = \\begin{bmatrix}\n",
       "  1.1072659 & 0.57211689 & 0.74760603 & 0.32901626 & -0.0531059\\\\\n",
       "\\end{bmatrix}$"
      ],
      "text/plain": [
       "<IPython.core.display.Math object>"
      ]
     },
     "metadata": {},
     "output_type": "display_data"
    },
    {
     "data": {
      "text/latex": [
       "$\\displaystyle x^{(11)} = \\begin{bmatrix}\n",
       "  0.83645086 & 0.57003172 & 0.64014636 & 0.44077124 & 0.08072982\\\\\n",
       "\\end{bmatrix}$"
      ],
      "text/plain": [
       "<IPython.core.display.Math object>"
      ]
     },
     "metadata": {},
     "output_type": "display_data"
    },
    {
     "data": {
      "text/latex": [
       "$\\displaystyle \\text{Sequence satisfies tolerance at }x^{(11)} = \\begin{bmatrix}\n",
       "  0.83645086 & 0.57003172 & 0.64014636 & 0.44077124 & 0.08072982\\\\\n",
       "\\end{bmatrix}$"
      ],
      "text/plain": [
       "<IPython.core.display.Math object>"
      ]
     },
     "metadata": {},
     "output_type": "display_data"
    },
    {
     "name": "stdout",
     "output_type": "stream",
     "text": [
      "Took 11 iterations.\n",
      "Expected solution x =  [0.83645063 0.5700317  0.64014617 0.44077131 0.08072993]\n",
      "Computed solution x =  [0.83645086 0.57003172 0.64014636 0.44077124 0.08072982]\n",
      "Error ϵ = 2.5781456758384478e-05 %\n",
      "Elapsed time: 0.008821964263916016 s\n"
     ]
    }
   ],
   "source": [
    "def compare(x, x_expected, A):\n",
    "    print('Expected solution x = ', x_expected.flatten())\n",
    "    print('Computed solution x = ', x)\n",
    "    print('Error ϵ = {} %'.format(np.linalg.norm(x_expected.flatten() - x)/np.linalg.norm(x_expected)*100))\n",
    "    return\n",
    "\n",
    "print('Condition number of A: ', np.linalg.cond(A))\n",
    "x = sor(A, b, ω=0.95)\n",
    "if x is not None:\n",
    "    compare(x, x_expected, A)\n",
    "\n",
    "for i in range(len(b)):\n",
    "    A[i][i] = reduce((lambda x, y: x + y), [abs(A[i][j]) for j in range(len(b))])\n",
    "b = np.matmul(A, x_expected)\n",
    "display(Math('\\\\text{{Novel A }} = {}'.format(np.array(bmatrix(A)))))\n",
    "print('\\nCondition number of A: ', np.linalg.cond(A))\n",
    "start = time.time()\n",
    "x = sor(A, b, ω=0.95, display_steps=True)\n",
    "end = time.time()\n",
    "if x is not None:\n",
    "    compare(x, x_expected, A)\n",
    "print('Elapsed time: {} s'.format(end - start))"
   ]
  },
  {
   "cell_type": "code",
   "execution_count": 13,
   "metadata": {},
   "outputs": [
    {
     "name": "stdout",
     "output_type": "stream",
     "text": [
      "Time to solve an 1x1 problem using gaussian elimination: 2.6226043701171875e-05 s\n",
      "Time to solve an 1x1 problem using the Gauss-Seidel iterative method: 0.0002949237823486328 s\n",
      "Time to solve an 2x2 problem using gaussian elimination: 3.814697265625e-05 s\n",
      "Time to solve an 2x2 problem using the Gauss-Seidel iterative method: 0.0012340545654296875 s\n",
      "Time to solve an 4x4 problem using gaussian elimination: 5.888938903808594e-05 s\n",
      "Time to solve an 4x4 problem using the Gauss-Seidel iterative method: 0.002858877182006836 s\n",
      "Time to solve an 8x8 problem using gaussian elimination: 0.00024080276489257812 s\n",
      "Time to solve an 8x8 problem using the Gauss-Seidel iterative method: 0.0017898082733154297 s\n",
      "Time to solve an 16x16 problem using gaussian elimination: 0.0015311241149902344 s\n",
      "Time to solve an 16x16 problem using the Gauss-Seidel iterative method: 0.005433082580566406 s\n",
      "Time to solve an 32x32 problem using gaussian elimination: 0.008675098419189453 s\n",
      "Time to solve an 32x32 problem using the Gauss-Seidel iterative method: 0.01609015464782715 s\n",
      "Time to solve an 64x64 problem using gaussian elimination: 0.10773301124572754 s\n",
      "Time to solve an 64x64 problem using the Gauss-Seidel iterative method: 0.05104708671569824 s\n",
      "Time to solve an 128x128 problem using gaussian elimination: 0.618121862411499 s\n",
      "Time to solve an 128x128 problem using the Gauss-Seidel iterative method: 0.1712629795074463 s\n",
      "Time to solve an 256x256 problem using gaussian elimination: 4.095650911331177 s\n",
      "Time to solve an 256x256 problem using the Gauss-Seidel iterative method: 0.5841042995452881 s\n",
      "Time to solve an 512x512 problem using gaussian elimination: 31.11806607246399 s\n",
      "Time to solve an 512x512 problem using the Gauss-Seidel iterative method: 2.1040029525756836 s\n"
     ]
    }
   ],
   "source": [
    "data = []\n",
    "for i in range(10):\n",
    "    n = 2**i\n",
    "    A0 = np.random.rand(n,n)\n",
    "    for i in range(n):\n",
    "        A0[i][i] = reduce((lambda x, y: x + y), [abs(A0[i][j]) for j in range(n)])\n",
    "    x_expected0 = np.random.rand(n,1)\n",
    "    b0 = np.matmul(A0, x_expected0)\n",
    "    start = time.time()\n",
    "    x0 = gaussian_elimination(A0, b0, display_steps=False)\n",
    "    end = time.time()\n",
    "    gaussian_time = end - start\n",
    "    start = time.time()\n",
    "    x0 = sor(A0, b0, ω=1.0) # ω = 1 is the Gauss-Seidel method\n",
    "    end = time.time()\n",
    "    gauss_seidel_time = end - start\n",
    "    print(r'Time to solve an {0}x{0} problem using gaussian elimination: {1} s'.format(n, gaussian_time))\n",
    "    print(r'Time to solve an {0}x{0} problem using the Gauss-Seidel iterative method: {1} s'.format(n, gauss_seidel_time))\n",
    "    data.append([n, gaussian_time, gauss_seidel_time])"
   ]
  },
  {
   "cell_type": "code",
   "execution_count": 14,
   "metadata": {},
   "outputs": [
    {
     "data": {
      "image/png": "[encoded data removed]",
      "text/plain": [
       "<Figure size 720x720 with 1 Axes>"
      ]
     },
     "metadata": {},
     "output_type": "display_data"
    }
   ],
   "source": [
    "data = np.array(data)\n",
    "no_pts = 1000\n",
    "k = data[-1,1]/data[-1,0]**3\n",
    "x_cubic = [data[0,0] + i/no_pts*data[-1,0] for i in range(no_pts)]\n",
    "y_cubic = [k*x**3 for x in x_cubic]\n",
    "k = data[-1,2]/data[-1,0]**2\n",
    "x_quad = [data[0,0] + i/no_pts*data[-1,0] for i in range(no_pts)]\n",
    "y_quad = [k*x**2 for x in x_quad]\n",
    "plt.figure(figsize=(10,10))\n",
    "plt.loglog(x_cubic, y_cubic, 'r--')\n",
    "plt.loglog(data[:,0], data[:, 1], 'r', label='Gaussian elimination')\n",
    "plt.loglog(x_quad, y_quad, 'g--')\n",
    "plt.loglog(data[:,0], data[:, 2], 'g', label='Gauss-Seidel')\n",
    "plt.xlabel('n')\n",
    "plt.ylabel('t [s]')\n",
    "plt.legend()\n",
    "plt.show()"
   ]
  },
  {
   "cell_type": "markdown",
   "metadata": {},
   "source": [
    "### Symbolic approach"
   ]
  },
  {
   "cell_type": "code",
   "execution_count": null,
   "metadata": {},
   "outputs": [],
   "source": [
    "A = sympy.Matrix([[2, 3], [5, 4]])\n",
    "b = sympy.Matrix([4, 3])"
   ]
  },
  {
   "cell_type": "code",
   "execution_count": null,
   "metadata": {},
   "outputs": [],
   "source": [
    "A.rank()"
   ]
  },
  {
   "cell_type": "code",
   "execution_count": null,
   "metadata": {},
   "outputs": [],
   "source": [
    "A.condition_number()"
   ]
  },
  {
   "cell_type": "code",
   "execution_count": null,
   "metadata": {},
   "outputs": [],
   "source": [
    "A.norm()"
   ]
  },
  {
   "cell_type": "code",
   "execution_count": null,
   "metadata": {},
   "outputs": [],
   "source": [
    "L, U, _ = A.LUdecomposition()"
   ]
  },
  {
   "cell_type": "code",
   "execution_count": null,
   "metadata": {},
   "outputs": [],
   "source": [
    "L"
   ]
  },
  {
   "cell_type": "code",
   "execution_count": null,
   "metadata": {},
   "outputs": [],
   "source": [
    "U"
   ]
  },
  {
   "cell_type": "code",
   "execution_count": null,
   "metadata": {},
   "outputs": [],
   "source": [
    "A"
   ]
  },
  {
   "cell_type": "code",
   "execution_count": null,
   "metadata": {},
   "outputs": [],
   "source": [
    "L * U"
   ]
  },
  {
   "cell_type": "code",
   "execution_count": null,
   "metadata": {},
   "outputs": [],
   "source": [
    "y = L.solve(b)\n",
    "y"
   ]
  },
  {
   "cell_type": "code",
   "execution_count": null,
   "metadata": {},
   "outputs": [],
   "source": [
    "x = U.solve(y)\n",
    "x"
   ]
  },
  {
   "cell_type": "code",
   "execution_count": null,
   "metadata": {},
   "outputs": [],
   "source": [
    "x = A.solve(b)\n",
    "x"
   ]
  },
  {
   "cell_type": "markdown",
   "metadata": {},
   "source": [
    "### Numerical approach"
   ]
  },
  {
   "cell_type": "code",
   "execution_count": null,
   "metadata": {},
   "outputs": [],
   "source": [
    "A = np.array([[2, 3], [5, 4]])\n",
    "b = np.array([4, 3])"
   ]
  },
  {
   "cell_type": "code",
   "execution_count": null,
   "metadata": {},
   "outputs": [],
   "source": [
    "np.linalg.matrix_rank(A)"
   ]
  },
  {
   "cell_type": "code",
   "execution_count": null,
   "metadata": {},
   "outputs": [],
   "source": [
    "np.linalg.cond(A)"
   ]
  },
  {
   "cell_type": "code",
   "execution_count": null,
   "metadata": {},
   "outputs": [],
   "source": [
    "np.linalg.norm(A)"
   ]
  },
  {
   "cell_type": "code",
   "execution_count": null,
   "metadata": {},
   "outputs": [],
   "source": [
    "P, L, U = linalg.lu(A)"
   ]
  },
  {
   "cell_type": "code",
   "execution_count": null,
   "metadata": {},
   "outputs": [],
   "source": [
    "P"
   ]
  },
  {
   "cell_type": "code",
   "execution_count": null,
   "metadata": {},
   "outputs": [],
   "source": [
    "L"
   ]
  },
  {
   "cell_type": "code",
   "execution_count": null,
   "metadata": {},
   "outputs": [],
   "source": [
    "U"
   ]
  },
  {
   "cell_type": "code",
   "execution_count": null,
   "metadata": {},
   "outputs": [],
   "source": [
    "np.matmul(P,A)"
   ]
  },
  {
   "cell_type": "code",
   "execution_count": null,
   "metadata": {},
   "outputs": [],
   "source": [
    "np.matmul(L,U)"
   ]
  },
  {
   "cell_type": "code",
   "execution_count": null,
   "metadata": {},
   "outputs": [],
   "source": [
    "y = np.linalg.solve(L, np.matmul(P,b))\n",
    "y"
   ]
  },
  {
   "cell_type": "code",
   "execution_count": null,
   "metadata": {},
   "outputs": [],
   "source": [
    "x = np.linalg.solve(U, y)\n",
    "x"
   ]
  },
  {
   "cell_type": "code",
   "execution_count": null,
   "metadata": {},
   "outputs": [],
   "source": [
    "x = np.linalg.solve(A, b)\n",
    "x"
   ]
  },
  {
   "cell_type": "markdown",
   "metadata": {},
   "source": [
    "### Example : rank and condition numbers -> numerical errors"
   ]
  },
  {
   "cell_type": "code",
   "execution_count": null,
   "metadata": {},
   "outputs": [],
   "source": [
    "p = sympy.symbols(\"p\", positive=True)"
   ]
  },
  {
   "cell_type": "code",
   "execution_count": null,
   "metadata": {},
   "outputs": [],
   "source": [
    "A = sympy.Matrix([[1, sympy.sqrt(p)], [1, 1/sympy.sqrt(p)]])\n",
    "A"
   ]
  },
  {
   "cell_type": "code",
   "execution_count": null,
   "metadata": {},
   "outputs": [],
   "source": [
    "b = sympy.Matrix([1, 2])\n",
    "b"
   ]
  },
  {
   "cell_type": "code",
   "execution_count": null,
   "metadata": {},
   "outputs": [],
   "source": [
    "sympy.simplify(A.solve(b))"
   ]
  },
  {
   "cell_type": "code",
   "execution_count": null,
   "metadata": {},
   "outputs": [],
   "source": [
    "# Symbolic problem specification\n",
    "p = sympy.symbols(\"p\", positive=True)\n",
    "A = sympy.Matrix([[1, sympy.sqrt(p)], [1, 1/sympy.sqrt(p)]])\n",
    "b = sympy.Matrix([1, 2])\n",
    "\n",
    "# Solve symbolically\n",
    "x_sym_sol = A.solve(b)\n",
    "x_sym_sol.simplify()\n",
    "x_sym_sol\n",
    "Acond = A.condition_number().simplify()\n",
    "\n",
    "# Function for solving numerically\n",
    "AA = lambda p: np.array([[1, np.sqrt(p)], [1, 1/np.sqrt(p)]])\n",
    "bb = np.array([1, 2])\n",
    "x_num_sol = lambda p: np.linalg.solve(AA(p), bb)\n",
    "\n",
    "# Graph the difference between the symbolic (exact) and numerical results.\n",
    "p_vec = np.linspace(0.9, 1.1, 200)\n",
    "\n",
    "fig, axes = plt.subplots(1, 2, figsize=(12, 4))\n",
    "\n",
    "for n in range(2):\n",
    "    x_sym = np.array([x_sym_sol[n].subs(p, pp).evalf() for pp in p_vec])\n",
    "    x_num = np.array([x_num_sol(pp)[n] for pp in p_vec])\n",
    "    axes[0].plot(p_vec, (x_num - x_sym)/x_sym, 'r')\n",
    "axes[0].set_title(\"Error in solution\\n(numerical - symbolic)/symbolic\")\n",
    "axes[0].set_xlabel(r'$p$', fontsize=18)\n",
    "\n",
    "axes[1].plot(p_vec, [Acond.subs(p, pp).evalf() for pp in p_vec])\n",
    "axes[1].set_title(\"Condition number\")\n",
    "axes[1].set_xlabel(r'$p$', fontsize=18)\n",
    "\n",
    "fig.tight_layout()"
   ]
  },
  {
   "cell_type": "markdown",
   "metadata": {},
   "source": [
    "### Hilbert Matrix\n",
    "\n",
    "$$\n",
    "h_{ij} = \\frac{1}{i+j+1},\\ \\ i,j=1,2,\\ldots,n\n",
    "$$"
   ]
  },
  {
   "cell_type": "code",
   "execution_count": null,
   "metadata": {},
   "outputs": [],
   "source": [
    "from scipy.linalg import hilbert\n",
    "\n",
    "n_max = 21\n",
    "n_runs = 200\n",
    "\n",
    "cond_numbers = np.zeros(n_max)\n",
    "errors = np.zeros(n_max)\n",
    "for n in range(2, n_max):\n",
    "    cond_numbers_trials = []\n",
    "    error_trials = []\n",
    "    for i in range(n_runs):\n",
    "        A = hilbert(n)\n",
    "        x_expected = np.random.rand(n,1)\n",
    "        b = np.matmul(A,x_expected)\n",
    "        cond_numbers_trials.append(np.linalg.cond(A))\n",
    "        x = la.solve(A, b)\n",
    "        error_trials.append(np.linalg.norm(x_expected.flatten() - x.flatten())/np.linalg.norm(x_expected))\n",
    "    cond_numbers[n] = np.mean(cond_numbers_trials)\n",
    "    errors[n] = np.mean(error_trials)"
   ]
  },
  {
   "cell_type": "code",
   "execution_count": null,
   "metadata": {},
   "outputs": [],
   "source": [
    "fig, axes = plt.subplots(1, 2, figsize=(12, 4))\n",
    "N = 10\n",
    "xmin, xmax = 2,20\n",
    "\n",
    "axes[0].semilogy(range(2,n_max), errors[2:])\n",
    "axes[0].set_title(\"Error in solution\\n(computed - expected)/expected\")\n",
    "axes[0].set_xlabel(r'$n$', fontsize=18)\n",
    "axes[0].set_xticks(np.round(np.linspace(xmin, xmax, N), 2))\n",
    "\n",
    "axes[1].semilogy(range(2, n_max), cond_numbers[2:])\n",
    "axes[1].set_title(\"Condition number\")\n",
    "axes[1].set_xlabel(r'$n$', fontsize=18)\n",
    "axes[1].set_xticks(np.round(np.linspace(xmin, xmax, N), 2))\n",
    "\n",
    "fig.tight_layout()"
   ]
  },
  {
   "cell_type": "code",
   "execution_count": null,
   "metadata": {},
   "outputs": [],
   "source": []
  }
 ],
 "metadata": {
  "kernelspec": {
   "display_name": "Python 3",
   "language": "python",
   "name": "python3"
  },
  "language_info": {
   "codemirror_mode": {
    "name": "ipython",
    "version": 3
   },
   "file_extension": ".py",
   "mimetype": "text/x-python",
   "name": "python",
   "nbconvert_exporter": "python",
   "pygments_lexer": "ipython3",
   "version": "3.7.1"
  }
 },
 "nbformat": 4,
 "nbformat_minor": 1
}
